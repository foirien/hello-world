{
 "cells": [
  {
   "cell_type": "markdown",
   "metadata": {},
   "source": [
    "<h1><center><span style=\"border-style:solid;border-width:1px;border-radius:5px;\n",
    "    padding:5px;background-color:yellow;box-shadow: 6px 6px 6px black;\">Quelques algorithmes en Python pour le traitement d'images</span></center></h1>"
   ]
  },
  {
   "cell_type": "markdown",
   "metadata": {},
   "source": [
    "Dans tout ce notebook, on travaille avec l'image d'un perroquet. <br>\n",
    "Il est préférable de travailler avec votre propre image. Pour cela, il faut modifier la 2ème ligne du premier programme ci-dessous pour y indiquer l'emplacement de votre image.<br>\n",
    "On utilisera la bibliothèque <strong>PIL</strong> (Python Imaging Library) qui permet d'agir sur les pixels d'une image.\n"
   ]
  },
  {
   "cell_type": "markdown",
   "metadata": {},
   "source": [
    "<h2 style=\"text-decoration:underline;\" id=\"partie1\">1- Dimensions d'une image</h2>"
   ]
  },
  {
   "cell_type": "markdown",
   "metadata": {},
   "source": [
    "<div class=\"alert alert-info\"><strong>Exercice 1 : </strong> Le programme ci-dessous affiche les dimensions  (largeur et hauteur) de l'image en pixels.<br>\n",
    "Ajouter une ligne à la fin de ce programme pour qu'il affiche le nombre total de pixels qui composent l'image.</div>"
   ]
  },
  {
   "cell_type": "code",
   "execution_count": null,
   "metadata": {},
   "outputs": [],
   "source": [
    "from PIL import Image\n",
    "from urllib.request import urlopen\n",
    "\n",
    "url='https://vinci-ts1-2018.pagesperso-orange.fr/Perroquet.jpg'\n",
    "image = Image.open(urlopen(url))\n",
    "#image=Image.open(r'C:\\\\Users\\\\Desktop\\\\Perroquet.jpg')\n",
    "\n",
    "largeur,hauteur = image.size\n",
    "print(\"Largeur en pixels : \",largeur,\" Hauteur en pixels : \",hauteur)\n",
    "display(image)"
   ]
  },
  {
   "cell_type": "markdown",
   "metadata": {},
   "source": [
    "<h2 style=\"text-decoration:underline;\" id=\"partie2\";>2- Lire la couleur d'un pixel particulier</h2>"
   ]
  },
  {
   "cell_type": "markdown",
   "metadata": {},
   "source": [
    "<div class=\"alert alert-info\"><strong>Exercice 2 : </strong> Le programme ci-dessous affiche les niveaux de rouge, vert, bleu du pixel de coordonnées (200,100).<br>\n",
    "Modifier ce programme pour qu'il affiche les niveaux de rouge,vert,bleu du coin supérieur gauche de l'image.</div>"
   ]
  },
  {
   "cell_type": "code",
   "execution_count": null,
   "metadata": {},
   "outputs": [],
   "source": [
    " rouge, vert, bleu = image.getpixel((200,100))\n",
    " print(\"Rouge : \",rouge,\" Vert : \",vert,\" Bleu : \",bleu)"
   ]
  },
  {
   "cell_type": "markdown",
   "metadata": {},
   "source": [
    "<h2 style=\"text-decoration:underline;\" id=\"partie3\";>3- Modifier la couleur d'un pixel</h2>"
   ]
  },
  {
   "cell_type": "markdown",
   "metadata": {},
   "source": [
    "<div class=\"alert alert-info\"><strong>Exercice 3 : </strong> Le programme ci-dessous fixe les niveaux de rouge/vert/bleu à 255 pour le pixel de coordonnées (200,100).<br>\n",
    "1) Quelle est la couleur du pixel ainsi modifié ? <br>\n",
    "2) Modifier la couleur d'un autre pixel situé dans une zone claire de l'image et attribuer une couleur sombre à ce pixel.</div>"
   ]
  },
  {
   "cell_type": "code",
   "execution_count": null,
   "metadata": {},
   "outputs": [],
   "source": [
    "image.putpixel( (200,100), (255,255,255) )\n",
    "display(image)"
   ]
  },
  {
   "cell_type": "markdown",
   "metadata": {},
   "source": [
    "<h2 style=\"text-decoration:underline;\" id=\"partie4\";>4- Modifier la couleur d'une zone rectangulaire</h2>"
   ]
  },
  {
   "cell_type": "markdown",
   "metadata": {},
   "source": [
    "<div class=\"alert alert-info\"><strong>Exercice 4 : </strong> Le programme ci-dessous affiche un carré noir sur l'image.<br>\n",
    "    Modifier ce programme pour qu'il affiche un rectangle de couleur rose de taille 100x50 pixels au milieu de l'image.<br>\n",
    "Pour connaître les composantes de rouge/vert/bleu associées à la couleur rose, vous pouvez vous rendre sur ce <a href=\"https://www.w3schools.com/colors/colors_picker.asp\">site</a>.\n",
    "</div>"
   ]
  },
  {
   "cell_type": "code",
   "execution_count": null,
   "metadata": {},
   "outputs": [],
   "source": [
    "for x in range(100,200):\n",
    "    for y in range(100,200):\n",
    "        image.putpixel((x,y),(0,0,0))\n",
    "display(image)"
   ]
  },
  {
   "cell_type": "markdown",
   "metadata": {},
   "source": [
    "<h2 style=\"text-decoration:underline;\" id=\"partie5\";>5- Assombrir une image</h2>"
   ]
  },
  {
   "cell_type": "markdown",
   "metadata": {},
   "source": [
    "<div class=\"alert alert-info\"><strong>Exercice 5 : </strong> <br>\n",
    "    1) Compléter le deuxième programme ci-dessous pour qu'il affiche une version assombrie de l'image en divisant par 2 les niveaux de rouge/vert/bleu de chaque pixel.    <br>\n",
    "    2) Pour plus d'efficacité, utiliser une fonction f qui à partir d'une intensité lumineuse de départ x renvoie une intensité lumineuse plus faible f(x).\n",
    "</div>"
   ]
  },
  {
   "cell_type": "code",
   "execution_count": null,
   "metadata": {},
   "outputs": [],
   "source": [
    "def f(x):\n",
    "    return x"
   ]
  },
  {
   "cell_type": "code",
   "execution_count": null,
   "metadata": {},
   "outputs": [],
   "source": [
    "from PIL import Image\n",
    "from urllib.request import urlopen\n",
    "\n",
    "url='https://vinci-ts1-2018.pagesperso-orange.fr/Perroquet.jpg'\n",
    "image = Image.open(urlopen(url))\n",
    "#image = Image.open(r'C:\\\\Users\\\\Desktop\\\\Perroquet.jpg')\n",
    "\n",
    "largeur, hauteur = image.size \n",
    "\n",
    "for x in range(largeur): \n",
    "    for y in range(hauteur):\n",
    "        rouge,vert,bleu = image.getpixel((x,y))  \n",
    "        nouveauRouge = \n",
    "        nouveauVert = \n",
    "        nouveauBleu = \n",
    "        image.putpixel( (x, y), (nouveauRouge,nouveauVert,nouveauBleu) )\n",
    "display(image)"
   ]
  },
  {
   "cell_type": "markdown",
   "metadata": {},
   "source": [
    "<h2 style=\"text-decoration:underline;\" id=\"partie6\";>6- Eclaircir une image</h2>"
   ]
  },
  {
   "cell_type": "markdown",
   "metadata": {},
   "source": [
    "<div class=\"alert alert-info\"><strong>Exercice 6 : </strong> <br>\n",
    "    1) Ecrire un programme qui éclaricit l'image en multipliant par 2 les niveaux de rouge/vert/bleu de chaque pixel. <br>\n",
    "    2) Quels sont les défauts de cette méthode ?<br>\n",
    "    3) Comment peut-on améliorer cet algorithme d'éclaircissement d'une image ?    \n",
    "</div>"
   ]
  },
  {
   "cell_type": "code",
   "execution_count": null,
   "metadata": {},
   "outputs": [],
   "source": [
    "from PIL import Image\n",
    "import math\n",
    "from urllib.request import urlopen\n",
    "\n",
    "url='https://vinci-ts1-2018.pagesperso-orange.fr/Perroquet.jpg'\n",
    "image = Image.open(urlopen(url))\n",
    "#image = Image.open(r'C:\\\\Users\\\\Desktop\\\\Perroquet.jpg')\n",
    "\n",
    "largeur, hauteur = image.size \n",
    "\n",
    "for x in range(largeur): \n",
    "    for y in range(hauteur):\n",
    "        rouge,vert,bleu = image.getpixel((x,y))  \n",
    "        nouveauRouge = \n",
    "        nouveauVert = \n",
    "        nouveauBleu = \n",
    "        image.putpixel( (x, y), (nouveauRouge,nouveauVert,nouveauBleu) )\n",
    "display(image)"
   ]
  },
  {
   "cell_type": "markdown",
   "metadata": {},
   "source": [
    "<h2 style=\"text-decoration:underline;\" id=\"partie7\";>7- Transformer une image couleur en noir et blanc</h2>"
   ]
  },
  {
   "cell_type": "markdown",
   "metadata": {},
   "source": [
    "<div class=\"alert alert-info\"><strong>Exercice 7 : </strong> Ecrire un programme qui transforme les couleurs de l'image en niveaux de gris, de façon à ce que l'image apparaisse en \"noir et blanc\".  <br>\n",
    "    Indication : pour qu'un pixel apparaisse \"gris\", ses niveaux de rouge/vert/bleu doivent être identiques.<br>\n",
    "    Remarque : une autre transformation amusante consiste à intervertir les niveaux de rouge/vert/bleu.\n",
    "</div>"
   ]
  },
  {
   "cell_type": "code",
   "execution_count": null,
   "metadata": {},
   "outputs": [],
   "source": [
    "from PIL import Image\n",
    "from urllib.request import urlopen\n",
    "\n",
    "url='https://vinci-ts1-2018.pagesperso-orange.fr/Perroquet.jpg'\n",
    "image = Image.open(urlopen(url))\n",
    "#image = Image.open(r'C:\\\\Users\\\\Desktop\\\\Perroquet.jpg')\n",
    "\n",
    "largeur,hauteur = image.size \n",
    "\n",
    "for x in range(largeur): \n",
    "    for y in range(hauteur):\n",
    "        rouge,vert,bleu = image.getpixel((x,y))  \n",
    "        nouveauRouge =   \n",
    "        nouveauVert =   \n",
    "        nouveauBleu =      \n",
    "        image.putpixel( (x, y), (nouveauRouge,nouveauVert,nouveauBleu) )\n",
    "display(image)"
   ]
  },
  {
   "cell_type": "markdown",
   "metadata": {},
   "source": [
    "<h2 style=\"text-decoration:underline;\" id=\"partie8\";>8- Obtenir le négatif d'une image</h2>"
   ]
  },
  {
   "cell_type": "markdown",
   "metadata": {},
   "source": [
    "<div class=\"alert alert-info\"><strong>Exercice 8 : </strong> Ecrire un programme qui transforme une image en son négatif, c'est-à-dire qui transforme les pixels clairs en pixels sombres et inversement.\n",
    "</div>"
   ]
  },
  {
   "cell_type": "code",
   "execution_count": null,
   "metadata": {},
   "outputs": [],
   "source": []
  },
  {
   "cell_type": "markdown",
   "metadata": {},
   "source": [
    "<h2 style=\"text-decoration:underline;\" id=\"partie9\";>9- L'effet miroir</h2>"
   ]
  },
  {
   "cell_type": "markdown",
   "metadata": {},
   "source": [
    "<div class=\"alert alert-info\"><strong>Exercice 9 : </strong> Ecrire un programme transforme l'image en son reflet dans un miroir, en inversant la gauche et la droite.\n",
    "</div>"
   ]
  },
  {
   "cell_type": "code",
   "execution_count": null,
   "metadata": {},
   "outputs": [],
   "source": []
  },
  {
   "cell_type": "markdown",
   "metadata": {},
   "source": [
    "<h2 style=\"text-decoration:underline;\" id=\"partie10\";>10- Insérer un sprite dans une image</h2>"
   ]
  },
  {
   "cell_type": "markdown",
   "metadata": {},
   "source": [
    "<div class=\"alert alert-info\"><strong>Exercice 10 : </strong> Ecrire un programme qui colle l'image sur fond vert ci-dessous (appelée un sprite) sur l'image de départ.  <br>   \n",
    "</div>"
   ]
  },
  {
   "cell_type": "code",
   "execution_count": null,
   "metadata": {},
   "outputs": [],
   "source": [
    "url='https://vinci-ts1-2018.pagesperso-orange.fr/sprite.bmp'\n",
    "sprite = Image.open(urlopen(url))\n",
    "display(sprite)"
   ]
  },
  {
   "cell_type": "code",
   "execution_count": null,
   "metadata": {},
   "outputs": [],
   "source": []
  },
  {
   "cell_type": "markdown",
   "metadata": {},
   "source": [
    "<h2 style=\"text-decoration:underline;\" id=\"partie11\";>11- Créer une vache Milka</h2>"
   ]
  },
  {
   "cell_type": "markdown",
   "metadata": {},
   "source": [
    "<div class=\"alert alert-info\"><strong>Exercice 11 : </strong> Ecrire un programme qui, à partir de la photographie d'une vache, la transforme en vache Milka (voir un exemple <a href=http://lerryberitfr.over-blog.com/2014/01/un-agriculteur-de-gra%C3%A7ay-%C3%A9l%C3%A8ve-un-troupeau-de-vaches-milka.html>ici</a>).  <br>   \n",
    "</div>"
   ]
  },
  {
   "cell_type": "code",
   "execution_count": null,
   "metadata": {},
   "outputs": [],
   "source": [
    "from PIL import Image\n",
    "from urllib.request import urlopen\n",
    "\n",
    "url='https://static.actu.fr/uploads/2019/11/vache-a13.jpg'\n",
    "image = Image.open(urlopen(url))\n",
    "display(image)"
   ]
  },
  {
   "cell_type": "markdown",
   "metadata": {},
   "source": [
    "<h2 style=\"text-decoration:underline;\" id=\"partie12\";>12- Flouter une image</h2>"
   ]
  },
  {
   "cell_type": "markdown",
   "metadata": {},
   "source": [
    "<h2 style=\"text-decoration:underline;\" id=\"partie13\";>13- Faire apparaître les contours d'une image</h2>"
   ]
  },
  {
   "cell_type": "markdown",
   "metadata": {},
   "source": [
    "<h2 style=\"text-decoration:underline;\" id=\"partie14\";>14- La transformation du Photomaton</h2>"
   ]
  }
 ],
 "metadata": {
  "kernelspec": {
   "display_name": "Python 3",
   "language": "python",
   "name": "python3"
  },
  "language_info": {
   "codemirror_mode": {
    "name": "ipython",
    "version": 3
   },
   "file_extension": ".py",
   "mimetype": "text/x-python",
   "name": "python",
   "nbconvert_exporter": "python",
   "pygments_lexer": "ipython3",
   "version": "3.7.3"
  }
 },
 "nbformat": 4,
 "nbformat_minor": 2
}
