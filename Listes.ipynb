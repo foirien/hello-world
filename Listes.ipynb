{
 "cells": [
  {
   "cell_type": "markdown",
   "metadata": {},
   "source": [
    "<h1><center><span style=\"border-style:solid;border-width:1px;border-radius:5px;\n",
    "    padding:5px;background-color:yellow;box-shadow: 6px 6px 6px black;\">Listes en Python</span></center></h1>"
   ]
  },
  {
   "cell_type": "markdown",
   "metadata": {},
   "source": [
    "<h2>Sommaire</h2>\n",
    "<ol>\n",
    "    <li>\n",
    "        <a href=\"#partie1\">Introduction</a>\n",
    "    </li>\n",
    "    <li>\n",
    "        <a href=\"#partie2\">Les listes</a>\n",
    "    </li>\n",
    "    <li>\n",
    "        <a href=\"#partie3\">Générer une liste</a>\n",
    "    </li>\n",
    "    <li>\n",
    "        <a href=\"#partie4\">Parcours d'une liste</a>\n",
    "    </li>\n",
    "    <li>\n",
    "        <a href=\"#partie5\">Tri d'une liste (complément)</a>\n",
    "    </li>\n",
    "    <li>\n",
    "        <a href=\"#partie6\">Tableaux à deux dimensions (complément)</a>\n",
    "    </li>\n",
    "</ol>"
   ]
  },
  {
   "cell_type": "markdown",
   "metadata": {},
   "source": [
    "<a id=\"partie1\"></a>"
   ]
  },
  {
   "cell_type": "markdown",
   "metadata": {},
   "source": [
    "<h2 style=\"text-decoration:underline;\" id=\"partie1\";>1- Introduction</h2>"
   ]
  },
  {
   "cell_type": "markdown",
   "metadata": {},
   "source": [
    "Imaginons que vous souhaitiez écrire un programme en Python qui calcule automatiquement la moyenne de vos notes.\n",
    "Vous avez par exemple obtenu les notes : 12, 17, 15 et 14.\n",
    "Vous pourriez procéder de la façon suivante :"
   ]
  },
  {
   "cell_type": "code",
   "execution_count": null,
   "metadata": {},
   "outputs": [],
   "source": [
    "a=12       # on stocke chaque note dans une variable\n",
    "b=17\n",
    "c=15\n",
    "d=14\n",
    "total=a+b+c+d\n",
    "nombreDeNotes=4\n",
    "moyenne = total/nombreDeNotes\n",
    "print(moyenne)"
   ]
  },
  {
   "cell_type": "markdown",
   "metadata": {},
   "source": [
    "Cette façon de faire présente trois défauts qui vont se révéler pénibles si l'on doit rajouter de nouvelles notes :\n",
    "<ol>\n",
    "    <li>\n",
    "        On doit inventer un nouveau nom de variable à chaque fois qu'on ajoute une nouvelle note.\n",
    "    </li>\n",
    "    <li>\n",
    "        Il faut modifier la formule qui calcule le total des notes en ajoutant la nouvelle note.\n",
    "    </li>\n",
    "    <li>\n",
    "        il ne faut pas oublier ne modifier aussi le nombre de notes (l'incrémenter de 1).\n",
    "</ol>"
   ]
  },
  {
   "cell_type": "markdown",
   "metadata": {},
   "source": [
    "De plus, si l'on souhaite déterminer de manière automatisée la plus grande des notes, on devra écrire un programme compliqué du type :"
   ]
  },
  {
   "cell_type": "code",
   "execution_count": null,
   "metadata": {},
   "outputs": [],
   "source": [
    "maxi=a\n",
    "if b>maxi:\n",
    "    maxi=b\n",
    "elif c>maxi:\n",
    "    maxi=c\n",
    "elif d>maxi:\n",
    "    maxi=d\n",
    "print(maxi)"
   ]
  },
  {
   "cell_type": "markdown",
   "metadata": {},
   "source": [
    "et il faudra rajouter encore une condition supplémentaire à chaque fois que l'on joute rune note.\n",
    "Imaginez la taille du programme si l'on a 100 notes!"
   ]
  },
  {
   "cell_type": "markdown",
   "metadata": {},
   "source": [
    "Le premier problème (celui des noms de variables) pourrait être résolu en nommant les notes a0, a1, a2, a3, etc... Cela ressemble à la solution qui a été inventée pour résoudre tous les problèmes à la fois : les **listes**. On va ici nommer nos variables : a[0], a[1], a[2], a[3], ... Le nombre entre crochets s'appelle l'<strong>indice</strong>, et pourra être stocké dans une variable."
   ]
  },
  {
   "cell_type": "markdown",
   "metadata": {},
   "source": [
    "<a id=\"partie2\"></a>"
   ]
  },
  {
   "cell_type": "markdown",
   "metadata": {},
   "source": [
    "<h2 style=\"text-decoration:underline;\" id=\"partie2\">2- Les listes</h2>"
   ]
  },
  {
   "cell_type": "markdown",
   "metadata": {},
   "source": [
    "<figure style=\"display: block\">\n",
    "    <img src=\"https://vinci-ts1-2018.pagesperso-orange.fr/Liste.PNG\" alt=\"Schéma d'une liste\">    \n",
    "</figure>"
   ]
  },
  {
   "cell_type": "markdown",
   "metadata": {},
   "source": [
    "Remarque : Dans les langages de programmation autres que Python, les listes sont généralement appelées des **tableaux**."
   ]
  },
  {
   "cell_type": "code",
   "execution_count": null,
   "metadata": {},
   "outputs": [],
   "source": [
    "note[0]=12\n",
    "note[1]"
   ]
  },
  {
   "cell_type": "code",
   "execution_count": null,
   "metadata": {},
   "outputs": [],
   "source": [
    "ou de façon plus courte : "
   ]
  },
  {
   "cell_type": "code",
   "execution_count": null,
   "metadata": {},
   "outputs": [],
   "source": [
    "note=[12,17,15,14]\n",
    "print(note)"
   ]
  },
  {
   "cell_type": "markdown",
   "metadata": {},
   "source": [
    "Remarque : doit-on appeler la liste note ou notes?"
   ]
  },
  {
   "cell_type": "markdown",
   "metadata": {},
   "source": [
    "La **taille** de la liste (le nombre de valeurs qu'elle contient) s'obtient avec la fonction **len** (abréviation de length qui veut dire longueur en anglais)."
   ]
  },
  {
   "cell_type": "code",
   "execution_count": null,
   "metadata": {},
   "outputs": [],
   "source": [
    "len(note)"
   ]
  },
  {
   "cell_type": "markdown",
   "metadata": {},
   "source": [
    "Accès aux notes :"
   ]
  },
  {
   "cell_type": "code",
   "execution_count": null,
   "metadata": {},
   "outputs": [],
   "source": [
    "print(note[0])"
   ]
  },
  {
   "cell_type": "markdown",
   "metadata": {},
   "source": [
    "<div style=\"background-color:yellow;\"><strong>Important à retenir :</strong> <span style=\"color:red;\"><strong>l'index commence toujours à 0 pour les listes.</strong></span> Le dernier indice pour notre liste de 4 notes sera donc 3.</div>\n",
    "<br>\n",
    "    On obtiendra un message d'erreur si on essaie dépasse les limites de la liste :\n",
    "    "
   ]
  },
  {
   "cell_type": "code",
   "execution_count": null,
   "metadata": {},
   "outputs": [],
   "source": [
    "print(note[4])"
   ]
  },
  {
   "cell_type": "markdown",
   "metadata": {},
   "source": [
    "Retour sur le problème du calcul de la moyenne :"
   ]
  },
  {
   "cell_type": "markdown",
   "metadata": {},
   "source": [
    "<a id=\"partie3\"></a>"
   ]
  },
  {
   "cell_type": "markdown",
   "metadata": {},
   "source": [
    "<h2 style=\"text-decoration:underline;\" id=\"partie3\">3- Générer une liste</h2>"
   ]
  },
  {
   "cell_type": "markdown",
   "metadata": {},
   "source": [
    "Il existe différentes façons de créer ou générer une liste."
   ]
  },
  {
   "cell_type": "markdown",
   "metadata": {},
   "source": [
    "<h3 style=\"text-decoration:underline;\">a) En écrivant la liste complète des éléments</h3>"
   ]
  },
  {
   "cell_type": "markdown",
   "metadata": {},
   "source": [
    "Il suffit d'écrire entre crochets la liste des valeurs, les valeurs étant séparées par une virgule :"
   ]
  },
  {
   "cell_type": "code",
   "execution_count": null,
   "metadata": {},
   "outputs": [],
   "source": [
    "maListe=[4,10,-9,7,54]\n",
    "print(maListe)\n",
    "print(maListe[2])\n",
    "print(len(maListe))"
   ]
  },
  {
   "cell_type": "markdown",
   "metadata": {},
   "source": [
    "Remarque : Cette méthode est peu adaptée pour de longues listes. En pratique, il est fréquent d'utiliser de très longues listes, par exemple la liste des 500 000 membres d'un site web."
   ]
  },
  {
   "cell_type": "markdown",
   "metadata": {},
   "source": [
    "<div class=\"alert alert-info\"><strong>Exercice : </strong>Générer ci-dessous la liste des carrés des entiers de 0 à 10 puis l'afficher.</div>"
   ]
  },
  {
   "cell_type": "code",
   "execution_count": null,
   "metadata": {},
   "outputs": [],
   "source": [
    "listeDesCarrés="
   ]
  },
  {
   "cell_type": "markdown",
   "metadata": {},
   "source": [
    "<h3 style=\"text-decoration:underline;\">b) En ajoutant un à un les éléments de la liste</h3>"
   ]
  },
  {
   "cell_type": "code",
   "execution_count": null,
   "metadata": {},
   "outputs": [],
   "source": [
    "maListe=[]\n",
    "maListe.append(6)\n",
    "maListe.append(7)\n",
    "maListe.append(10)\n",
    "print(maListe)\n",
    "print(maListe[2])\n",
    "print(len(maListe))"
   ]
  },
  {
   "cell_type": "markdown",
   "metadata": {},
   "source": [
    "<div class=\"alert alert-info\"><strong>Exercice : </strong>Générer ci-dessous une liste à 5 éléments de votre choix en les ajoutant un à un.</div>"
   ]
  },
  {
   "cell_type": "code",
   "execution_count": null,
   "metadata": {},
   "outputs": [],
   "source": []
  },
  {
   "cell_type": "markdown",
   "metadata": {},
   "source": [
    "On peut aussi insérer ou supprimer un élément : cela oblige la machine à décaler tous les éléments situés à droite de l'emplacement d'insertion ou de suppression. A éviter si l'on doit le faire souvent ou sur des listes très longues. Dans ce cas, on utilisera une structure plus sophistiquée qu'une liste, appelée une liste chaînée (hors programme de 1ère Spécialité Maths). Méthode pop à évoquer??? Fusionner deux tableaux"
   ]
  },
  {
   "cell_type": "markdown",
   "metadata": {},
   "source": [
    "<h3 style=\"text-decoration:underline;\">c) En utilisant la fonction <code>range</code></h3>"
   ]
  },
  {
   "cell_type": "markdown",
   "metadata": {},
   "source": [
    "La fonction range retourne une liste d'entiers Le secret de la boucle for i in range()"
   ]
  },
  {
   "cell_type": "code",
   "execution_count": null,
   "metadata": {},
   "outputs": [],
   "source": [
    "maListe=range(15,3,-2)\n",
    "print(list(maListe))"
   ]
  },
  {
   "cell_type": "markdown",
   "metadata": {},
   "source": [
    "Générer une suite arithmétique ou géométrique"
   ]
  },
  {
   "cell_type": "markdown",
   "metadata": {},
   "source": [
    "En extension ou en compréhension"
   ]
  },
  {
   "cell_type": "code",
   "execution_count": null,
   "metadata": {},
   "outputs": [],
   "source": [
    "maListe=[i*i for i in range(10)]\n",
    "print(maListe)"
   ]
  },
  {
   "cell_type": "markdown",
   "metadata": {},
   "source": [
    "<div class=\"alert alert-info\"><strong>Exercice : </strong>Générer ci-dessous la liste des entiers pairs de 0 à 200.</div>"
   ]
  },
  {
   "cell_type": "code",
   "execution_count": null,
   "metadata": {},
   "outputs": [],
   "source": [
    "print([2*i for i in range(101)])"
   ]
  },
  {
   "cell_type": "markdown",
   "metadata": {},
   "source": [
    "On peut générer une liste aléatoire de la façon suivante :"
   ]
  },
  {
   "cell_type": "code",
   "execution_count": null,
   "metadata": {},
   "outputs": [],
   "source": [
    "from random import *\n",
    "maListe=[randint(1,6) for i in range(50)]\n",
    "print(maListe)"
   ]
  },
  {
   "cell_type": "markdown",
   "metadata": {},
   "source": [
    "<div class=\"alert alert-info\"><strong>Exercice : </strong>Ecrire un programme qui affiche un élément choisi au hasard dans la liste ci-dessous.</div>"
   ]
  },
  {
   "cell_type": "code",
   "execution_count": null,
   "metadata": {},
   "outputs": [],
   "source": [
    "listeDeNombres=[37,41,18,45,36,28]\n"
   ]
  },
  {
   "cell_type": "markdown",
   "metadata": {},
   "source": [
    "<a id=\"partie4\"></a>"
   ]
  },
  {
   "cell_type": "markdown",
   "metadata": {},
   "source": [
    "<h2 style=\"text-decoration:underline;\" id=\"partie4\">4- Parcours d'une liste</h2>"
   ]
  },
  {
   "cell_type": "markdown",
   "metadata": {},
   "source": [
    "On peut maintenant parcourir facilement la liste des notes à l'aide d'une boucle for :"
   ]
  },
  {
   "cell_type": "markdown",
   "metadata": {},
   "source": [
    "note=[12,17,15,14]\n",
    "somme=0   #somme représente la somme de toutes les notes\n",
    "for n in note:\n",
    "    somme=somme+n\n",
    "moyenne=somme/len(note)\n",
    "print(moyenne)"
   ]
  },
  {
   "cell_type": "markdown",
   "metadata": {},
   "source": [
    "<div class=\"alert alert-info\">\n",
    "Et voilà! Grâce aux listes, il est maintenant très simple de rajouter une nouvelle note. plus besoin de modifier le programme, on ne modifie que la liste des notes. Essayez!</div>"
   ]
  },
  {
   "cell_type": "markdown",
   "metadata": {},
   "source": [
    "**Exercice 1**"
   ]
  },
  {
   "cell_type": "code",
   "execution_count": null,
   "metadata": {},
   "outputs": [],
   "source": [
    "# Rajoutez une ou plusieurs notes à la liste des notes\n",
    "note=[12,17,15,14]\n",
    "somme=0   #somme représente la somme de toutes les notes\n",
    "for n in note:\n",
    "    somme=somme+n\n",
    "moyenne=somme/len(note)\n",
    "print(moyenne)"
   ]
  },
  {
   "cell_type": "markdown",
   "metadata": {},
   "source": [
    "<div class=\"alert alert-info\"><strong>Exercice : </strong>Dans chaque cas, indiquer s'il est préférable d'utiliser une boucle <code>for</code> ou une boucle <code>while</code>.\n",
    "<ol>\n",
    "    <li>\n",
    "        Calculer la somme de toutes les valeurs de la liste.\n",
    "    </li>\n",
    "      <li>\n",
    "        Déterminer la plus grande valeur de la liste.\n",
    "    </li>\n",
    "      <li>\n",
    "        Déterminer si la valeur 6 apparait au moins une fois dans la liste.\n",
    "    </li>\n",
    "      <li>\n",
    "        Compter le nombre d'apparitions de la valeur 6 dans la liste.\n",
    "    </li>\n",
    "      <li>\n",
    "        Déterminer si les valeurs de la liste sont rangées dans l'ordre croissant.\n",
    "    </li>\n",
    "</ol>\n",
    "    Indiquez vos réponses dans le cadre vert.\n",
    "</div>"
   ]
  },
  {
   "cell_type": "markdown",
   "metadata": {},
   "source": [
    "<div class=\"alert alert-success\" style=\"width:25%\"><strong>Réponses : </strong>\n",
    "    <ol>\n",
    "        <li>\n",
    "            <input type=\"checkbox\"> for &nbsp;&nbsp;&nbsp; <input type=\"checkbox\"> while          \n",
    "        </li>  \n",
    "          <li>\n",
    "            <input type=\"checkbox\"> for &nbsp;&nbsp;&nbsp; <input type=\"checkbox\"> while          \n",
    "        </li>  \n",
    "          <li>\n",
    "            <input type=\"checkbox\"> for &nbsp;&nbsp;&nbsp; <input type=\"checkbox\"> while          \n",
    "        </li>  \n",
    "          <li>\n",
    "            <input type=\"checkbox\"> for &nbsp;&nbsp;&nbsp; <input type=\"checkbox\"> while          \n",
    "        </li>  \n",
    "          <li>\n",
    "            <input type=\"checkbox\"> for &nbsp;&nbsp;&nbsp; <input type=\"checkbox\"> while          \n",
    "        </li>  \n",
    "    </ol>\n",
    "   \n",
    "</div>"
   ]
  },
  {
   "cell_type": "markdown",
   "metadata": {},
   "source": [
    "<a id=\"partie5\"></a>"
   ]
  },
  {
   "cell_type": "markdown",
   "metadata": {},
   "source": [
    "<h2 style=\"text-decoration:underline;\" id=\"partie5\">5- Tri d'une liste (complément)</h2>"
   ]
  },
  {
   "cell_type": "markdown",
   "metadata": {},
   "source": [
    "Application : calcul de la médiane"
   ]
  },
  {
   "cell_type": "markdown",
   "metadata": {},
   "source": [
    "<a id=\"partie6\"></a>"
   ]
  },
  {
   "cell_type": "markdown",
   "metadata": {},
   "source": [
    "<h2 style=\"text-decoration:underline;\" id=\"partie6\">6- Tableaux à deux dimensions (complément)</h2>"
   ]
  }
 ],
 "metadata": {
  "kernelspec": {
   "display_name": "Python 3",
   "language": "python",
   "name": "python3"
  },
  "language_info": {
   "codemirror_mode": {
    "name": "ipython",
    "version": 3
   },
   "file_extension": ".py",
   "mimetype": "text/x-python",
   "name": "python",
   "nbconvert_exporter": "python",
   "pygments_lexer": "ipython3",
   "version": "3.7.3"
  }
 },
 "nbformat": 4,
 "nbformat_minor": 2
}
