{
 "cells": [
  {
   "cell_type": "markdown",
   "metadata": {},
   "source": [
    "<h1><center><span style=\"border-style:solid;border-width:1px;border-radius:5px;\n",
    "    padding:5px;background-color:yellow;box-shadow: 6px 6px 6px black;\">Listes en Python</span></center></h1>"
   ]
  },
  {
   "cell_type": "markdown",
   "metadata": {},
   "source": [
    "<h2>Sommaire</h2>\n",
    "<ol>\n",
    "    <li>\n",
    "        <a href=\"#partie1\">Introduction</a>\n",
    "    </li>\n",
    "    <li>\n",
    "        <a href=\"#partie2\">Les listes</a>\n",
    "    </li>\n",
    "    <li>\n",
    "        <a href=\"#partie3\">Générer une liste</a>\n",
    "    </li>\n",
    "    <li>\n",
    "        <a href=\"#partie4\">Parcours d'une liste</a>\n",
    "    </li>\n",
    "    <li>\n",
    "        <a href=\"#partie5\">Tri d'une liste (complément)</a>\n",
    "    </li>\n",
    "    <li>\n",
    "        <a href=\"#partie6\">Tableaux à deux dimensions (complément)</a>\n",
    "    </li>\n",
    "</ol>"
   ]
  },
  {
   "cell_type": "markdown",
   "metadata": {},
   "source": [
    "<a id=\"partie1\"></a>"
   ]
  },
  {
   "cell_type": "markdown",
   "metadata": {},
   "source": [
    "<h2 style=\"text-decoration:underline;\" id=\"partie1\";>1- Introduction</h2>"
   ]
  },
  {
   "cell_type": "markdown",
   "metadata": {},
   "source": [
    "Imaginons que vous souhaitiez écrire un programme en Python qui calcule automatiquement la moyenne de vos notes.\n",
    "Vous avez par exemple obtenu les notes : 12, 17, 15 et 14.\n",
    "Vous pourriez procéder de la façon suivante :"
   ]
  },
  {
   "cell_type": "code",
   "execution_count": null,
   "metadata": {},
   "outputs": [],
   "source": [
    "a=12       # on stocke chaque note dans une variable\n",
    "b=17\n",
    "c=15\n",
    "d=14\n",
    "total=a+b+c+d\n",
    "nombreDeNotes=4\n",
    "moyenne = total / nombreDeNotes\n",
    "print(moyenne)"
   ]
  },
  {
   "cell_type": "markdown",
   "metadata": {},
   "source": [
    "Cette façon de procéder présente trois défauts qui vont se révéler pénibles si l'on doit rajouter de nouvelles notes :\n",
    "<ol>\n",
    "    <li>\n",
    "        On doit inventer un nouveau nom de variable à chaque fois que l'on ajoute une nouvelle note.\n",
    "    </li>\n",
    "    <li>\n",
    "        Il faut modifier la formule qui calcule le total des notes en ajoutant la nouvelle note.\n",
    "    </li>\n",
    "    <li>\n",
    "        il ne faut pas oublier de modifier aussi le nombre de notes (l'incrémenter de 1).\n",
    "</ol>"
   ]
  },
  {
   "cell_type": "markdown",
   "metadata": {},
   "source": [
    "De plus, si l'on souhaite déterminer de manière automatisée la plus grande des notes, on devra écrire un programme compliqué du type :"
   ]
  },
  {
   "cell_type": "code",
   "execution_count": null,
   "metadata": {},
   "outputs": [],
   "source": [
    "maxi=a\n",
    "if b>maxi:\n",
    "    maxi=b\n",
    "elif c>maxi:\n",
    "    maxi=c\n",
    "elif d>maxi:\n",
    "    maxi=d\n",
    "print(maxi)"
   ]
  },
  {
   "cell_type": "markdown",
   "metadata": {},
   "source": [
    "et il faudra rajouter encore une condition supplémentaire à chaque fois que l'on joute rune note.\n",
    "Imaginez la taille du programme si l'on a 100 notes!"
   ]
  },
  {
   "cell_type": "markdown",
   "metadata": {},
   "source": [
    "Le premier problème (celui des noms de variables) pourrait être résolu en nommant les notes a0, a1, a2, a3, etc... Cela ressemble à la solution qui a été inventée pour résoudre tous les problèmes à la fois : les **listes**. On va ici nommer nos variables : a[0], a[1], a[2], a[3], ... Le nombre entre crochets s'appelle l'<strong>indice</strong>, et pourra être stocké dans une variable."
   ]
  },
  {
   "cell_type": "markdown",
   "metadata": {},
   "source": [
    "<a id=\"partie2\"></a>"
   ]
  },
  {
   "cell_type": "markdown",
   "metadata": {},
   "source": [
    "<h2 style=\"text-decoration:underline;\" id=\"partie2\">2- Les listes</h2>"
   ]
  },
  {
   "cell_type": "markdown",
   "metadata": {},
   "source": [
    "<h3>Définition</h3>"
   ]
  },
  {
   "cell_type": "markdown",
   "metadata": {},
   "source": [
    "<div style=\"border:solid;padding:5px;background-color:rgb(255,137,120);color:blue;width:60%\">\n",
    "    <strong>Définition</strong><br>\n",
    "Une <strong>liste</strong> permet de stocker plusieurs valeurs dans une seule variable. <br>\n",
    "On accède aux valeurs individuelles via un <strong>indice</strong> (index en anglais).<br>\n",
    "La première valeur de la liste correspond à l'indice 0.\n",
    "</div>"
   ]
  },
  {
   "cell_type": "markdown",
   "metadata": {},
   "source": [
    "<span style=\"text-decoration:underline;\">Remarque</span> : Dans les langages de programmation autres que Python, les listes sont généralement appelées des **tableaux**."
   ]
  },
  {
   "cell_type": "markdown",
   "metadata": {},
   "source": [
    "Ci-dessous, on stocke 4 valeurs dans la liste <code>a</code> :"
   ]
  },
  {
   "cell_type": "markdown",
   "metadata": {},
   "source": [
    "<figure style=\"display: block\">\n",
    "    <img src=\"https://vinci-ts1-2018.pagesperso-orange.fr/Liste.PNG\" alt=\"Schéma d'une liste\">    \n",
    "</figure>"
   ]
  },
  {
   "cell_type": "code",
   "execution_count": null,
   "metadata": {},
   "outputs": [],
   "source": [
    "a=[12,17,15,14]\n",
    "print(a)"
   ]
  },
  {
   "cell_type": "markdown",
   "metadata": {},
   "source": [
    "<h3>Taille d'une liste</h3>"
   ]
  },
  {
   "cell_type": "markdown",
   "metadata": {},
   "source": [
    "La **taille** de la liste (le nombre de valeurs qu'elle contient) s'obtient avec la fonction <code>len</code> (abréviation de length qui veut dire longueur en anglais)."
   ]
  },
  {
   "cell_type": "code",
   "execution_count": null,
   "metadata": {},
   "outputs": [],
   "source": [
    "len(a)"
   ]
  },
  {
   "cell_type": "markdown",
   "metadata": {},
   "source": [
    "<div class=\"alert alert-info\"><strong>Exercice 1 : </strong> La liste ci-dessous donne le nombre d'habitants de chaque commune d'Indre-et-Loire. <br>Combien y a-t-il de communes en Indre-et-Loire?  <input></input></div>"
   ]
  },
  {
   "cell_type": "code",
   "execution_count": null,
   "metadata": {},
   "outputs": [],
   "source": [
    "nbHabitants=[1152,1750,12693,418,509,2639,166,2686,432,2218,1804,554,474,3493,3090,376,8052,464,1764,1712,247,2692,911,700,554,5250,752,329,3906,272,215,303,296,181,221,759,505,271,321,185,1057,448,1207,320,1257,11738,839,1140,124,3513,827,1282,1307,501,4944,1751,226,551,557,1799,727,228,350,134,8145,584,2083,452,411,3621,410,1801,203,1405,437,1784,1913,519,804,496,249,111,662,104,678,522,565,350,3427,615,671,745,940,410,158,144,6057,254,244,725,10357,1380,1515,381,881,1440,255,38250,1541,371,1069,683,570,1440,2348,315,177,3312,136463,10331,522,520,5542,4560,2486,794,896,351,528,338,523,311,561,1287,1061,2159,1293,479,6232,663,143,815,5099,245,974,573,1348,520,241,225,560,599,478,1363,2068,4473,4428,634,10825,332,786,7835,342,812,471,3490,442,2022,801,295,913,1084,1137,4165,741,818,1247,1199,716,605,2422,643,233,1364,1474,1657,1202,363,892,1004,168,234,1265,1187,1708,1678,506,309,480,996,709,3129,1320,1396,1717,327,14968,850,2614,1119,15991,1577,1632,569,1047,369,635,760,321,944,3169,1098,254,1003,1657,15766,504,608,1252,555,768,4142,705,1347,1567,3153,243,2172,208,623,367,1379,2683,872,392,185,1706,263,295,1753,281,460,303,2440,1279,243,6372,4551,127,478,2710,1058,1124,298,117,1334,594,1049,755,212,3246,1370]\n"
   ]
  },
  {
   "cell_type": "markdown",
   "metadata": {},
   "source": [
    "<h3>Accès aux valeurs</h3>"
   ]
  },
  {
   "cell_type": "markdown",
   "metadata": {},
   "source": [
    "On accède à la valeur d'indice <code>i</code> de la liste <code>a</code> en écrivant le nom de la liste suivi de l'indice entre crochets : <code>a[i]</code>. "
   ]
  },
  {
   "cell_type": "code",
   "execution_count": null,
   "metadata": {},
   "outputs": [],
   "source": [
    "a=[12,17,15,14]\n",
    "print(a[0])\n",
    "print(a[1])\n",
    "print(nbHabitants[2])"
   ]
  },
  {
   "cell_type": "markdown",
   "metadata": {},
   "source": [
    "<div style=\"background-color:yellow;font-size:20px\"><strong>Important à retenir :</strong> <span style=\"color:red;\"><strong>L'indice de la première valeur est toujours 0 pour les listes.</strong></span> \n",
    "    "
   ]
  },
  {
   "cell_type": "markdown",
   "metadata": {},
   "source": [
    "C'est un peu comme pour les suites en mathématiques où le premier terme est souvent $u_0$.<br>\n",
    "Le dernier indice pour notre liste de 4 valeurs sera donc 3.</div>\n",
    "<br>\n",
    "    On obtiendra un message d'erreur si on dépasse les limites de la liste :"
   ]
  },
  {
   "cell_type": "code",
   "execution_count": null,
   "metadata": {},
   "outputs": [],
   "source": [
    "print(a[4])"
   ]
  },
  {
   "cell_type": "markdown",
   "metadata": {},
   "source": [
    "On peut également modifier n'importe quelle valeur de la liste : "
   ]
  },
  {
   "cell_type": "code",
   "execution_count": null,
   "metadata": {},
   "outputs": [],
   "source": [
    "a[2]=20\n",
    "print(a)"
   ]
  },
  {
   "cell_type": "markdown",
   "metadata": {},
   "source": [
    "<div class=\"alert alert-info\"><strong>Exercice 2 : </strong>Modifiez la première valeur de la liste <code>a</code>, puis affichez la liste modifiée.</div>"
   ]
  },
  {
   "cell_type": "code",
   "execution_count": null,
   "metadata": {},
   "outputs": [],
   "source": []
  },
  {
   "cell_type": "markdown",
   "metadata": {},
   "source": [
    "<span style=\"text-decoration:underline;\">Remarque</span> : Pour accéder au dernier élément de la liste <code>a</code>, plutôt que d'écrire <code>a[len(a)-1]</code>, il existe une astuce qui consiste à utiliser un indice négatif : <code>a[-1]</code> est le dernier élément de la liste, <code>a[-2]</code> est l'avant -dernier élément, etc..."
   ]
  },
  {
   "cell_type": "code",
   "execution_count": null,
   "metadata": {},
   "outputs": [],
   "source": [
    "a=[12,17,15,14]\n",
    "print(a[-1])"
   ]
  },
  {
   "cell_type": "markdown",
   "metadata": {},
   "source": [
    "<div class=\"alert alert-info\"><strong>Exercice 3 : </strong>Dans la liste ci-dessous : <br>\n",
    "    Quel est le plus grand indice possible? <input></input><br>\n",
    "    Quel est le plus petit indice négatif possible? <input></input></div>\n"
   ]
  },
  {
   "cell_type": "code",
   "execution_count": null,
   "metadata": {},
   "outputs": [],
   "source": [
    "liste=[1,2,3,4,5,6,7]"
   ]
  },
  {
   "cell_type": "markdown",
   "metadata": {},
   "source": [
    "<h3>Retour sur le problème du calcul de la moyenne</h3>"
   ]
  },
  {
   "cell_type": "markdown",
   "metadata": {},
   "source": [
    "On peut maintenant résoudre le problème du calcul de la moyenne de façon beaucoup plus élégante:"
   ]
  },
  {
   "cell_type": "code",
   "execution_count": null,
   "metadata": {},
   "outputs": [],
   "source": [
    "# Vous pouvez rajouter une ou plusieurs notes à la liste des notes\n",
    "notes=[12,17,15,14]\n",
    "somme=0   #somme représente la somme de toutes les notes\n",
    "for i in range(len(notes)):\n",
    "    somme=somme+notes[i]\n",
    "moyenne=somme/len(notes)\n",
    "print(moyenne)"
   ]
  },
  {
   "cell_type": "markdown",
   "metadata": {},
   "source": [
    "Et voilà! Grâce aux listes, il est maintenant très simple de rajouter une nouvelle note. Plus besoin de modifier le programme, on ne modifie que la liste des notes. Essayez !"
   ]
  },
  {
   "cell_type": "markdown",
   "metadata": {},
   "source": [
    "<div class=\"alert alert-info\"><strong>Exercice 4 : </strong>Dans le programme précédent, ajoutez une ou plusieurs notes à la liste et recalculez la moyenne des notes.</div>"
   ]
  },
  {
   "cell_type": "markdown",
   "metadata": {},
   "source": [
    "<div class=\"alert alert-info\"><strong>Exercice 5 : </strong>En vous inspirant du programme précédent, écrivez un programme qui calcule le nombre total d'habitants en Indre-et-Loire.</div>"
   ]
  },
  {
   "cell_type": "code",
   "execution_count": null,
   "metadata": {},
   "outputs": [],
   "source": []
  },
  {
   "cell_type": "markdown",
   "metadata": {},
   "source": [
    "<a id=\"partie3\"></a>"
   ]
  },
  {
   "cell_type": "markdown",
   "metadata": {},
   "source": [
    "<h2 style=\"text-decoration:underline;\" id=\"partie3\">3- Générer une liste</h2>"
   ]
  },
  {
   "cell_type": "markdown",
   "metadata": {},
   "source": [
    "Il existe différentes façons de créer ou générer une liste."
   ]
  },
  {
   "cell_type": "markdown",
   "metadata": {},
   "source": [
    "<h3 style=\"text-decoration:underline;\">a) En écrivant la liste complète des éléments</h3>"
   ]
  },
  {
   "cell_type": "markdown",
   "metadata": {},
   "source": [
    "Lorqu'on connait à l'avance les éléments de la liste que l'on veut créer, il suffit d'écrire entre crochets la liste des valeurs, les valeurs étant séparées par une virgule :"
   ]
  },
  {
   "cell_type": "code",
   "execution_count": null,
   "metadata": {},
   "outputs": [],
   "source": [
    "maListe=[4,10,-9,7,5.4]\n",
    "print(maListe)\n",
    "print(maListe[2])\n",
    "print(len(maListe))"
   ]
  },
  {
   "cell_type": "markdown",
   "metadata": {},
   "source": [
    "<span style=\"text-decoration:underline\">Remarque</span> : Cette méthode est peu adaptée pour de longues listes. En pratique, on utilise fréquemment de très longues listes, comme par exemple la liste des 500 000 membres d'un site web. Dans ce cas, la liste est générée à partir d'un fichier."
   ]
  },
  {
   "cell_type": "markdown",
   "metadata": {},
   "source": [
    "<div class=\"alert alert-info\"><strong>Exercice 6 : </strong>Générer ci-dessous la liste des numéros des six départements de la région Centre-Val de Loire, puis l'afficher.</div>"
   ]
  },
  {
   "cell_type": "code",
   "execution_count": null,
   "metadata": {},
   "outputs": [],
   "source": []
  },
  {
   "cell_type": "markdown",
   "metadata": {},
   "source": [
    "Parfois, on ne connait pas à l'avance les éléments de la liste. Cela peut se produire par exemple lorsqu'on demande à un utilisateur de saisir des valeurs que l'on souhaite stocker en mémoire.\n",
    "On peut alors procéder de la façon suivante :<br>\n",
    "    <ol>\n",
    "    <li>\n",
    "        Initialiser une liste ayant la longueur souhaitée\n",
    "    </li>\n",
    "    <li>\n",
    "        Ecrire l'un après l'autre les éléments de la liste\n",
    "    </li>\n",
    "    </ol>"
   ]
  },
  {
   "cell_type": "markdown",
   "metadata": {},
   "source": [
    "<strong>Exemple :</strong>"
   ]
  },
  {
   "cell_type": "code",
   "execution_count": null,
   "metadata": {},
   "outputs": [],
   "source": [
    "valeurs=[0]*5    # Ceci crée une liste de 5 éléments ayant tous la valeur 0\n",
    "for i in range(5):\n",
    "    valeurs[i]=int(input(\"Saisissez un nombre entier puis tapez sur Entrée : \"))\n",
    "print(\"Voici la liste des nombres que vous avez saisis :\",valeurs)"
   ]
  },
  {
   "cell_type": "markdown",
   "metadata": {},
   "source": [
    "<div class=\"alert alert-info\"><strong>Exercice 7 : </strong>Ecrire un programme qui :<br>\n",
    "    <ul>\n",
    "        <li>initialise une liste de longueur 10 avec des 0</li>\n",
    "        <li>demande à l'utilisateur de saisir un emplacement entre 0 et 9</li>\n",
    "        <li>écrit dans la liste la valeur 1 à l'emplacement choisi par l'utilisateur</li>\n",
    "        <li>affiche la liste complète</li>\n",
    "    <ul>\n",
    "</div>"
   ]
  },
  {
   "cell_type": "code",
   "execution_count": null,
   "metadata": {},
   "outputs": [],
   "source": []
  },
  {
   "cell_type": "markdown",
   "metadata": {},
   "source": [
    "<h3 style=\"text-decoration:underline;\">b) En ajoutant un à un les éléments de la liste</h3>"
   ]
  },
  {
   "cell_type": "markdown",
   "metadata": {},
   "source": [
    "Lorsqu'on ne connait pas à l'avance le nombre d'éléments de la liste, la méthode précédente ne fonctionne pas. On peut alors créer une liste vide, puis la rallonger petit à petit en lui ajoutant des éléments les uns après les autres : "
   ]
  },
  {
   "cell_type": "code",
   "execution_count": null,
   "metadata": {},
   "outputs": [],
   "source": [
    "maListe=[]\n",
    "maListe.append(6)\n",
    "maListe.append(7)\n",
    "maListe.append(10)\n",
    "print(maListe)\n",
    "print(maListe[2])\n",
    "print(len(maListe))\n",
    "maListe.append(4)\n",
    "print(maListe)"
   ]
  },
  {
   "cell_type": "markdown",
   "metadata": {},
   "source": [
    "<div class=\"alert alert-info\"><strong>Exercice 8 : </strong>Générer ci-dessous une liste contenant 5 éléments de votre choix en les ajoutant un à un à la fin de la liste.</div>"
   ]
  },
  {
   "cell_type": "code",
   "execution_count": null,
   "metadata": {},
   "outputs": [],
   "source": []
  },
  {
   "cell_type": "markdown",
   "metadata": {},
   "source": [
    "Remarque : il existe aussi une fonction <code>insert</code> qui permet d'insérer un élément à n'importe quelle position de la liste, et une fonction <code>del</code> qui permet de supprimer n'importe quel élément dela liste. Ces fonctions obligent la machine à décaler d'un cran tous les éléments situés à droite de l'emplacement d'insertion ou de suppression. Il faut donc éviter de les utiliser souvent ou sur des listes très longues. Si l'on doit faire de nombresues insetions ou ajouts, on utilisera une structure plus sophistiquée qu'une liste, appelée une liste chaînée (hors programme de 1ère Spécialité Maths).<br>\n",
    "\n",
    "Voici quelques exemples d'utilisation :"
   ]
  },
  {
   "cell_type": "code",
   "execution_count": 5,
   "metadata": {},
   "outputs": [
    {
     "name": "stdout",
     "output_type": "stream",
     "text": [
      "[2, 4, 6, 5, 8, 10]\n",
      "[2, 6, 5, 8, 10]\n"
     ]
    }
   ],
   "source": [
    "liste=[2,4,6,8,10] # pop, del et remove\n",
    "liste.insert(3,5)   # insère la valeur 5 à l'indice 3, donc entre les valeurs 6 et 8\n",
    "print(liste)\n",
    "liste.remove(4)\n",
    "print(liste)"
   ]
  },
  {
   "cell_type": "markdown",
   "metadata": {},
   "source": [
    "Fusionner deux listes"
   ]
  },
  {
   "cell_type": "code",
   "execution_count": 7,
   "metadata": {},
   "outputs": [
    {
     "name": "stdout",
     "output_type": "stream",
     "text": [
      "[2, 4, 6, 7, 8, 9]\n",
      "[7, 8, 9, 2, 4, 6]\n"
     ]
    }
   ],
   "source": [
    "liste1=[2,4,6]\n",
    "liste2=[7,8,9]\n",
    "grosseListe=liste1+liste2\n",
    "print(grosseListe)\n",
    "grosseListe=liste2+liste1 # l'addition des listes n'est pas commutative!\n",
    "print(grosseListe)"
   ]
  },
  {
   "cell_type": "markdown",
   "metadata": {},
   "source": [
    "<h3 style=\"text-decoration:underline;\">c) En utilisant la fonction <code>range</code></h3>"
   ]
  },
  {
   "cell_type": "markdown",
   "metadata": {},
   "source": [
    "La fonction <code>range</code> (souvent utilisée dans les boucles <code>for</code>) génère automatiquement une liste d'entiers. <br><br>\n",
    "Elle peut prendre un, deux ou trois paramètres entiers :<br>\n",
    "<ul>\n",
    "    <li>\n",
    "        <code>range(n)</code> renvoie tous les entiers compris entre 0 inclus et n non inclus.\n",
    "    </li>\n",
    "    <li>\n",
    "        <code>range(p,n)</code> renvoie tous les entiers compris entre p inclus et n non inclus.\n",
    "    <li>\n",
    "        <code>range(p,n,pas)</code> renvoie tous les entiers compris entre p inclus et n non inclus avec un pas.<br>\n",
    "        Le pas peut être négatif. Dans ce cas, p doit être plus grand que n car p est la valeur de départ.\n",
    "    </li>\n",
    " </ul>\n",
    "        \n",
    "Remarque : en réalité, la fonction <code>range</code> renvoie un objet qui n'est pas tout à fait une liste. Pour obtenir une vraie liste, il faut convertir cet objet en liste avec la fonction <code>list</code>."
   ]
  },
  {
   "cell_type": "code",
   "execution_count": null,
   "metadata": {},
   "outputs": [],
   "source": [
    "liste1=list(range(8))\n",
    "print(liste1)\n",
    "liste2=list(range(10,20))\n",
    "print(liste2)\n",
    "liste3=list(range(5,25,3))\n",
    "print(liste3)\n",
    "liste3=list(range(25,3,-3))\n",
    "print(liste3)"
   ]
  },
  {
   "cell_type": "markdown",
   "metadata": {},
   "source": [
    "<div class=\"alert alert-info\"><strong>Exercice 9 : </strong><br>\n",
    "1) Générer les premiers termes d'une suite arithmétique de terme initial 3 et de raison 4.<br>\n",
    "2) Générer les premiers termes d'une suite arithmétique de terme initial 97 et de raison -5.\n",
    "</div>"
   ]
  },
  {
   "cell_type": "code",
   "execution_count": null,
   "metadata": {},
   "outputs": [],
   "source": []
  },
  {
   "cell_type": "markdown",
   "metadata": {},
   "source": [
    "<h3 style=\"text-decoration:underline;\">d) Génération d'une liste en compréhension</h3>"
   ]
  },
  {
   "cell_type": "markdown",
   "metadata": {},
   "source": [
    "<div style=\"background-color:pink\"><strong>Partie à finir</strong> </div>"
   ]
  },
  {
   "cell_type": "code",
   "execution_count": null,
   "metadata": {},
   "outputs": [],
   "source": [
    "maListe=[i*i for i in range(10)]\n",
    "print(maListe)"
   ]
  },
  {
   "cell_type": "markdown",
   "metadata": {},
   "source": [
    "<div class=\"alert alert-info\"><strong>Exercice 10 : </strong>Générer ci-dessous la liste des entiers pairs de 0 à 200.</div>"
   ]
  },
  {
   "cell_type": "code",
   "execution_count": null,
   "metadata": {},
   "outputs": [],
   "source": [
    "print([2*i for i in range(101)])"
   ]
  },
  {
   "cell_type": "markdown",
   "metadata": {},
   "source": [
    "On peut générer une liste aléatoire de la façon suivante :"
   ]
  },
  {
   "cell_type": "code",
   "execution_count": null,
   "metadata": {},
   "outputs": [],
   "source": [
    "from random import *\n",
    "maListe=[randint(1,8) for i in range(50)]\n",
    "print(maListe)"
   ]
  },
  {
   "cell_type": "markdown",
   "metadata": {},
   "source": [
    "<div class=\"alert alert-info\"><strong>Exercice 11 : </strong>Ecrire un programme qui affiche un élément choisi au hasard dans la liste ci-dessous.<br><br>\n",
    "    Remarque : cet exercice porte sur la génération de nombres aléatoires avec <code>randint</code> et non sur la génération d'une liste en compréhension.</div>"
   ]
  },
  {
   "cell_type": "code",
   "execution_count": null,
   "metadata": {},
   "outputs": [],
   "source": [
    "listeDeNombres=[37,41,18,45,36,28]\n"
   ]
  },
  {
   "cell_type": "markdown",
   "metadata": {},
   "source": [
    "<h3 style=\"text-decoration:underline;\">e) Filtrage d'une liste</h3>"
   ]
  },
  {
   "cell_type": "markdown",
   "metadata": {},
   "source": [
    "<div style=\"background-color:pink\"><strong>Partie à finir</strong> </div>"
   ]
  },
  {
   "cell_type": "markdown",
   "metadata": {},
   "source": [
    "Le slice : extraire une sous-liste d'une liste existante : liste[2:30:3]"
   ]
  },
  {
   "cell_type": "markdown",
   "metadata": {},
   "source": [
    "<div class=\"alert alert-info\"><strong>Exercice 12 : </strong>Ecrire un programme qui affiche la liste des nombres d'habitants des communes d'Indre-et-Loire de plus de 15 000 habitants.</div>"
   ]
  },
  {
   "cell_type": "code",
   "execution_count": null,
   "metadata": {},
   "outputs": [],
   "source": [
    "liste=[n for n in nbHabitants if n>=15000]\n",
    "print(liste)"
   ]
  },
  {
   "cell_type": "markdown",
   "metadata": {},
   "source": [
    "<div class=\"alert alert-info\"><strong>Exercice 13 : </strong>Quel est le rôle du programme ci-dessous et comment s'appelle la méthode employée ici ?</div>"
   ]
  },
  {
   "cell_type": "markdown",
   "metadata": {},
   "source": []
  },
  {
   "cell_type": "code",
   "execution_count": null,
   "metadata": {},
   "outputs": [],
   "source": [
    "liste=list(range(2,100))\n",
    "liste=[n for n in liste if n<=2 or not(n%2==0)] # on supprime les nombres pairs sauf le premier\n",
    "liste=[n for n in liste if n<=3 or not(n%3==0)]\n",
    "liste=[n for n in liste if n<=5 or not(n%5==0)]\n",
    "liste=[n for n in liste if n<=7 or not(n%7==0)]\n",
    "print(liste)"
   ]
  },
  {
   "cell_type": "markdown",
   "metadata": {},
   "source": [
    "<a id=\"partie4\"></a>"
   ]
  },
  {
   "cell_type": "markdown",
   "metadata": {},
   "source": [
    "<h2 style=\"text-decoration:underline;\" id=\"partie4\">4- Parcours d'une liste</h2>"
   ]
  },
  {
   "cell_type": "markdown",
   "metadata": {},
   "source": [
    "On peut facilement parcourir une liste à l'aide d'une boucle for. <br>\n",
    "Il y a deux façons de procéder :"
   ]
  },
  {
   "cell_type": "code",
   "execution_count": null,
   "metadata": {},
   "outputs": [],
   "source": [
    "notes=[12,17,15,14]\n",
    "\n",
    "# Méthode 1\n",
    "print(\"Méthode 1 :\")\n",
    "\n",
    "for i in range(len(notes)):   # i prend successivement toutes les valeurs des indices de la liste\n",
    "    print(notes[i])\n",
    "\n",
    "#Méthode 2\n",
    "print(\"Méthode 2 : \")\n",
    "\n",
    "for n in notes:    # n prend successivement toutes les valeurs de la liste\n",
    "    print(n)\n"
   ]
  },
  {
   "cell_type": "markdown",
   "metadata": {},
   "source": [
    "La méthode 2 est préférable car sa syntaxe est plus courte et plus lisible. Cependant, elle ne peut fonctionner que si l'on n'utilise pas l'indice de la valeur considérée dans la boucle. Si par exemple on cherche l'indice correspondant à la plus grande valeur de la liste, seule la méthode 1 pourra être mise en oeuvre."
   ]
  },
  {
   "cell_type": "markdown",
   "metadata": {},
   "source": [
    "Pour certains algorithmes, il est inutile de parcourir entièrement la liste du début à la fin.\n",
    "Dans ce cas, il est préférable d'utiliser une boucle while, qui permet de s'arrêter avant d'avoir atteint la fin de la liste. On économise alors du temps de calcul.<br>\n",
    "<strong>Exemple : </strong> Le programme ci-dessous renvoie True si la liste contient deux éléments consécutifs égaux, et False sinon :"
   ]
  },
  {
   "cell_type": "code",
   "execution_count": null,
   "metadata": {},
   "outputs": [],
   "source": [
    "liste=[2,4,8,7,7,6,4,8,3]      # Supprimez un des deux 7 pour modifier le résultat du programme\n",
    "i=1\n",
    "doublon=False\n",
    "while i<len(liste) and not doublon: # on arrête le parcours de la liste si on a déjà trouvé un doublon\n",
    "    if liste[i]==liste[i-1]:\n",
    "        doublon=True\n",
    "    i+=1\n",
    "print(doublon)"
   ]
  },
  {
   "cell_type": "markdown",
   "metadata": {},
   "source": [
    "<div class=\"alert alert-info\"><strong>Exercice 14 : </strong>Dans chaque cas, indiquer s'il est préférable d'utiliser une boucle <code>for</code> ou une boucle <code>while</code>.\n",
    "<ol>\n",
    "    <li>\n",
    "        Calculer la somme de toutes les valeurs de la liste.\n",
    "    </li>\n",
    "      <li>\n",
    "        Déterminer la plus grande valeur de la liste.\n",
    "    </li>\n",
    "      <li>\n",
    "        Déterminer si la valeur 6 apparait au moins une fois dans la liste.\n",
    "    </li>\n",
    "      <li>\n",
    "        Compter le nombre d'apparitions de la valeur 6 dans la liste.\n",
    "    </li>\n",
    "      <li>\n",
    "        Déterminer si les valeurs de la liste sont rangées dans l'ordre croissant.\n",
    "    </li>\n",
    "</ol>\n",
    "    Indiquez vos réponses dans le cadre vert.\n",
    "</div>"
   ]
  },
  {
   "cell_type": "markdown",
   "metadata": {},
   "source": [
    "<div class=\"alert alert-success\" style=\"width:25%\"><strong>Réponses : </strong>\n",
    "    <ol>\n",
    "        <li>\n",
    "            <input type=\"checkbox\"> for &nbsp;&nbsp;&nbsp; <input type=\"checkbox\"> while          \n",
    "        </li>  \n",
    "          <li>\n",
    "            <input type=\"checkbox\"> for &nbsp;&nbsp;&nbsp; <input type=\"checkbox\"> while          \n",
    "        </li>  \n",
    "          <li>\n",
    "            <input type=\"checkbox\"> for &nbsp;&nbsp;&nbsp; <input type=\"checkbox\"> while          \n",
    "        </li>  \n",
    "          <li>\n",
    "            <input type=\"checkbox\"> for &nbsp;&nbsp;&nbsp; <input type=\"checkbox\"> while          \n",
    "        </li>  \n",
    "          <li>\n",
    "            <input type=\"checkbox\"> for &nbsp;&nbsp;&nbsp; <input type=\"checkbox\"> while          \n",
    "        </li>  \n",
    "    </ol>\n",
    "   \n",
    "</div>"
   ]
  },
  {
   "cell_type": "markdown",
   "metadata": {},
   "source": [
    "<div class=\"alert alert-info\"><strong>Exercice 15 : </strong>Compléter le programme suivant afin qu'il affiche le nombre d'habitants de la ville la <strong>plus</strong> peuplée d'Indre-et-Loire.</div>"
   ]
  },
  {
   "cell_type": "code",
   "execution_count": null,
   "metadata": {},
   "outputs": [],
   "source": [
    "# on suppose que la liste n'est pas vide\n",
    "maximum=nbHabitants[0]\n",
    "for nombre in nbHabitants:\n",
    "    if\n",
    "    \n",
    "print(maximum)"
   ]
  },
  {
   "cell_type": "markdown",
   "metadata": {},
   "source": [
    "<div class=\"alert alert-info\"><strong>Exercice 16 : </strong>Ecrire un programme qui affiche le nombre d'habitants de la commune la <strong>moins</strong> peuplée d'Indre-et-Loire.</div>"
   ]
  },
  {
   "cell_type": "code",
   "execution_count": null,
   "metadata": {},
   "outputs": [],
   "source": []
  },
  {
   "cell_type": "markdown",
   "metadata": {},
   "source": [
    "<strong>Complément :</strong> Parcours de deux listes en parallèle<br>\n",
    "La fonction <code>zip</code> permet de parcourir les éléments de deux listes en parallèle : au premier tour de boucle, on dispose du premier élément de chaque liste, puis du deuxième élément au deuxième tour de boucle et ainsi de suite. <br>\n",
    "\"zip\" signie \"fermeture éclair\" en anglais.\n",
    "<figure style=\"display: block\">\n",
    "    <img src=\"https://vinci-ts1-2018.pagesperso-orange.fr/zip.jpg\" alt=\"photo d'une fermeture éclair\" width=\"200px\">    \n",
    "</figure>"
   ]
  },
  {
   "cell_type": "markdown",
   "metadata": {},
   "source": [
    "L'exemple ci-dessous effectue le calcul de la somme de deux listes élément par élément :"
   ]
  },
  {
   "cell_type": "code",
   "execution_count": null,
   "metadata": {},
   "outputs": [],
   "source": [
    "liste1=[2,4,6,8,10]\n",
    "liste2=[7,6,5,4,3]\n",
    "listeSomme=[]\n",
    "for a,b in zip(liste1,liste2):\n",
    "    listeSomme.append(a+b)   # au premier tour de la boucle, a vaut 2 et b vaut 7\n",
    "print(listeSomme)"
   ]
  },
  {
   "cell_type": "markdown",
   "metadata": {},
   "source": [
    "<div class=\"alert alert-info\"><strong>Exercice 17 : </strong>Ecrire un programme qui utilise la fonction <code>zip</code> pour calculer la moyenne pondérées des notes ci-dessous. Les coefficients de chaque note sont donnés dans une liste de même taille.</div>"
   ]
  },
  {
   "cell_type": "code",
   "execution_count": null,
   "metadata": {},
   "outputs": [],
   "source": [
    "note=[6,9,10,14]\n",
    "coefficient=[2,1,4,3]"
   ]
  },
  {
   "cell_type": "markdown",
   "metadata": {},
   "source": [
    "<a id=\"partie5\"></a>"
   ]
  },
  {
   "cell_type": "markdown",
   "metadata": {},
   "source": [
    "<h2 style=\"text-decoration:underline;\" id=\"partie5\">5- Tri d'une liste (complément)</h2>"
   ]
  },
  {
   "cell_type": "markdown",
   "metadata": {},
   "source": [
    "<div class=\"alert alert-info\"><strong>Exercice 18 : </strong>Quel est le rôle de l'algorithme ci-dessous?<br>    \n",
    "Indication : vous pouvez faire des essais en modifiant la liste de la première ligne.</div>"
   ]
  },
  {
   "cell_type": "code",
   "execution_count": null,
   "metadata": {},
   "outputs": [],
   "source": []
  },
  {
   "cell_type": "code",
   "execution_count": null,
   "metadata": {},
   "outputs": [],
   "source": [
    "liste=[5,8,1,9,7,6]\n",
    "for i in range(len(liste)):\n",
    "    for j in range(len(liste)-1):       \n",
    "        if liste[j]>liste[j+1]:\n",
    "            aux=liste[j]\n",
    "            liste[j]=liste[j+1]\n",
    "            liste[j+1]=aux\n",
    "print(liste)"
   ]
  },
  {
   "cell_type": "markdown",
   "metadata": {},
   "source": [
    "Les listes en Python disposent d'une fonction de tri préprogrammée, appelée <code>sort</code>.<br>\n",
    "\"to sort\" signifie \"trier\" en anglais.<br>\n",
    "L'exemple ci-dessous indique comment utiliser cette fonction de tri :"
   ]
  },
  {
   "cell_type": "code",
   "execution_count": null,
   "metadata": {},
   "outputs": [],
   "source": [
    "liste=[6,7,9,1,4,2,3]\n",
    "print(liste, \"liste initiale\")\n",
    "liste.sort()     # par défaut, le tri se fait par ordre croissant\n",
    "print(liste,\"par ordre croissant\")\n",
    "liste.sort(reverse=True)      # tri par ordre décroissant\n",
    "print(liste,\"par ordre décroissant\")"
   ]
  },
  {
   "cell_type": "markdown",
   "metadata": {},
   "source": [
    "Les listes triées permettent de simplifier ou d'accélérer les algorithmes de recherche d'un élément dans une liste.<br>\n",
    "Il ne faut cependant pas oublier que le tri d'une liste peut demander beaucoup de calculs lorsque la  liste est très longue. Il faut donc s'assurer que le tri préalable de la liste en vaut la peine. <br><br>\n",
    "Les trois exercices suivants fournissent quelques exemples de situations pour lesquelles le tri préalable de la liste permet de résoudre plus facilement ou plus rapidement le problème posé :"
   ]
  },
  {
   "cell_type": "markdown",
   "metadata": {},
   "source": [
    "<div class=\"alert alert-info\"><strong>Exercice 19 : </strong>Ecrire un programme qui calcule la médiane du nombre d'habitants des communes d'Indre-et-Loire, le nombre d'habitants de la commune la moins peuplée et le nombre d'habitants de la commune la plus peuplée.</div>"
   ]
  },
  {
   "cell_type": "code",
   "execution_count": null,
   "metadata": {},
   "outputs": [],
   "source": []
  },
  {
   "cell_type": "markdown",
   "metadata": {},
   "source": [
    "<div class=\"alert alert-info\"><strong>Exercice 20 : </strong>Ecrire un programme qui calcule le nombre de communes d'Indre-et-Loire qui possèdent le même nombre d'habitants qu'une autre commune du département.</div>"
   ]
  },
  {
   "cell_type": "code",
   "execution_count": null,
   "metadata": {},
   "outputs": [],
   "source": []
  },
  {
   "cell_type": "markdown",
   "metadata": {},
   "source": [
    "<div class=\"alert alert-info\"><strong>Exercice 21 : </strong>Ecrire un programme qui simule 1000 lancers d'un dé, stocke les résultats dans une liste, trie la liste par ordre décroissant, puis compte le nombre de 6 obtenus sans parcourir entièrement la liste, puis affiche le nombre de 6.</div>"
   ]
  },
  {
   "cell_type": "code",
   "execution_count": null,
   "metadata": {},
   "outputs": [],
   "source": []
  },
  {
   "cell_type": "markdown",
   "metadata": {},
   "source": [
    "<a id=\"partie6\"></a>"
   ]
  },
  {
   "cell_type": "markdown",
   "metadata": {},
   "source": [
    "<h2 style=\"text-decoration:underline;\" id=\"partie6\">6- Tableaux à deux dimensions (complément)</h2>"
   ]
  },
  {
   "cell_type": "markdown",
   "metadata": {},
   "source": [
    "A venir <progress></progress>\n"
   ]
  }
 ],
 "metadata": {
  "kernelspec": {
   "display_name": "Python 3",
   "language": "python",
   "name": "python3"
  },
  "language_info": {
   "codemirror_mode": {
    "name": "ipython",
    "version": 3
   },
   "file_extension": ".py",
   "mimetype": "text/x-python",
   "name": "python",
   "nbconvert_exporter": "python",
   "pygments_lexer": "ipython3",
   "version": "3.7.3"
  }
 },
 "nbformat": 4,
 "nbformat_minor": 2
}
