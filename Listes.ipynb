{
 "cells": [
  {
   "cell_type": "markdown",
   "metadata": {},
   "source": [
    "<h1><center><span class=\"titre\">Listes en Python</span></center></h1>"
   ]
  },
  {
   "cell_type": "markdown",
   "metadata": {},
   "source": [
    "<h2>Sommaire</h2>\n",
    "<ol>\n",
    "    <li>\n",
    "        <a href=\"#partie1\">Introduction</a>\n",
    "    </li>\n",
    "    <li>\n",
    "        <a href=\"#partie2\">Les listes</a>\n",
    "    </li>\n",
    "    <li>\n",
    "        <a href=\"#partie3\">Générer une liste</a>\n",
    "    </li>\n",
    "    <li>\n",
    "        <a href=\"#partie4\">Parcours d'une liste</a>\n",
    "    </li>\n",
    "    <li>\n",
    "        <a href=\"#partie5\">Tri d'une liste (complément)</a>\n",
    "    </li>\n",
    "    <li>\n",
    "        <a href=\"#partie6\">Tableaux à deux dimensions (complément)</a>\n",
    "    </li>\n",
    "</ol>"
   ]
  },
  {
   "cell_type": "markdown",
   "metadata": {},
   "source": [
    "<h2 id=\"partie1\">1- Introduction</h2>"
   ]
  },
  {
   "cell_type": "markdown",
   "metadata": {},
   "source": [
    "Imaginons que vous souhaitiez écrire un programme en Python qui calcule automatiquement votre moyenne.\n",
    "Vous avez par exemple obtenu les notes : 12, 17, 15 et 14.\n",
    "Vous pourriez procéder de la façon suivante :"
   ]
  },
  {
   "cell_type": "code",
   "execution_count": null,
   "metadata": {},
   "outputs": [],
   "source": [
    "a=12\n",
    "b=17\n",
    "c=15\n",
    "d=14\n",
    "total=a+b+c+d\n",
    "nombreDeNotes=4\n",
    "moyenne = total/nombreDeNotes\n",
    "print(moyenne)"
   ]
  },
  {
   "cell_type": "markdown",
   "metadata": {},
   "source": [
    "Cette façon de faire présente trois défauts qui vont se révéler pénibles si l'on doit rajouter des nouvelles notes :\n",
    "<ol>\n",
    "    <li>\n",
    "        On doit inventer un nouveau nom de variable à chaque fois qu'on ajoute une nouvelle note.\n",
    "    </li>\n",
    "    <li>\n",
    "        Il faut modifier la formule qui calcule le total des notes en ajoutant la nouvelle note.\n",
    "    </li>\n",
    "    <li>\n",
    "        il ne faut pas oublier ne modifier aussi le nombre de notes (l'incrémenter de 1).\n",
    "</ol>"
   ]
  },
  {
   "cell_type": "markdown",
   "metadata": {},
   "source": [
    "De plus, si l'on souhaite déterminer de manière automatisée la plus grande des notes, on devra écrire un programme compliqué du type :"
   ]
  },
  {
   "cell_type": "code",
   "execution_count": null,
   "metadata": {},
   "outputs": [],
   "source": [
    "maxi=a\n",
    "if b>maxi:\n",
    "    maxi=b\n",
    "elif c>maxi:\n",
    "    maxi=c\n",
    "elif d>maxi:\n",
    "    maxi=d\n",
    "print(maxi)"
   ]
  },
  {
   "cell_type": "markdown",
   "metadata": {},
   "source": [
    "et il faudra rajouter encore une condition supplémentaire à chaque fois que l'on joute rune note.\n",
    "Imaginez la taille du programme si l'on a 100 notes!"
   ]
  },
  {
   "cell_type": "markdown",
   "metadata": {},
   "source": [
    "Le premier problème (celui des noms de variables) pourrait être résolu en nommant les notes a0, a1, a2, a3, etc... Cela ressemble à la solution qui a été inventée pour résoudre tous les problèmes à la fois : les **listes**. On va ici nommer nos variables : a[0], a[1], a[2], a[3], ... Le nombre entre crochets s'appelle l'<strong>indice</strong>."
   ]
  },
  {
   "cell_type": "markdown",
   "metadata": {},
   "source": [
    "<h2 id=\"partie2\">2- Les listes</h2>"
   ]
  },
  {
   "cell_type": "markdown",
   "metadata": {},
   "source": [
    "Reprenons l'exemple du calcul de la moyenne :"
   ]
  },
  {
   "cell_type": "code",
   "execution_count": null,
   "metadata": {},
   "outputs": [],
   "source": [
    "note[0]=12\n",
    "note[1]"
   ]
  },
  {
   "cell_type": "code",
   "execution_count": null,
   "metadata": {},
   "outputs": [],
   "source": [
    "ou de façon plus courte : "
   ]
  },
  {
   "cell_type": "code",
   "execution_count": null,
   "metadata": {},
   "outputs": [],
   "source": [
    "note=[12,17,15,14]\n",
    "print(note)"
   ]
  },
  {
   "cell_type": "markdown",
   "metadata": {},
   "source": [
    "Remarque : doit-on appeler la liste note ou notes?"
   ]
  },
  {
   "cell_type": "markdown",
   "metadata": {},
   "source": [
    "La **taille** de la liste (le nombre de valeurs qu'elle contient) s'obtient avec la fonction **len** (abréviation de length qui veut dire longueur en anglais)."
   ]
  },
  {
   "cell_type": "code",
   "execution_count": null,
   "metadata": {},
   "outputs": [],
   "source": [
    "len(note)"
   ]
  },
  {
   "cell_type": "markdown",
   "metadata": {},
   "source": [
    "Accès aux notes :"
   ]
  },
  {
   "cell_type": "code",
   "execution_count": null,
   "metadata": {},
   "outputs": [],
   "source": [
    "print(note[0])"
   ]
  },
  {
   "cell_type": "markdown",
   "metadata": {},
   "source": [
    "<div style=\"background-color:yellow;\"><strong>Important à retenir :</strong> <span style=\"color:red;\">l'index commence toujours à 0 pour les listes.</span> Le dernier indice pour notre liste de 4 notes sera donc 3.</div>\n",
    "<br>\n",
    "    On aura un message d'erreur si on essaie dépasse les limites de la liste :\n",
    "    "
   ]
  },
  {
   "cell_type": "code",
   "execution_count": null,
   "metadata": {},
   "outputs": [],
   "source": [
    "print(note[4])"
   ]
  },
  {
   "cell_type": "markdown",
   "metadata": {},
   "source": [
    "<h2 id=\"partie3\">3- Générer une liste</h2>"
   ]
  },
  {
   "cell_type": "markdown",
   "metadata": {},
   "source": [
    "Le secret de la boucle for i in range()"
   ]
  },
  {
   "cell_type": "markdown",
   "metadata": {},
   "source": [
    "<h2 id=\"partie4\">4- Parcours d'une liste</h2>"
   ]
  },
  {
   "cell_type": "markdown",
   "metadata": {},
   "source": [
    "On peut maintenant parcourir facilement la liste des notes à l'aide d'une boucle for :"
   ]
  },
  {
   "cell_type": "markdown",
   "metadata": {},
   "source": [
    "note=[12,17,15,14]\n",
    "somme=0   #somme représente la somme de toutes les notes\n",
    "for n in note:\n",
    "    somme=somme+n\n",
    "moyenne=somme/len(note)\n",
    "print(moyenne)"
   ]
  },
  {
   "cell_type": "markdown",
   "metadata": {},
   "source": [
    "Et voilà! Grâce aux listes, il est maintenant très simple de rajouter une nouvelle note. plus besoin de modifier le programme, on ne modifie que la liste des notes. Essayez!"
   ]
  },
  {
   "cell_type": "markdown",
   "metadata": {},
   "source": [
    "**Exercice 1**"
   ]
  },
  {
   "cell_type": "code",
   "execution_count": null,
   "metadata": {},
   "outputs": [],
   "source": [
    "# Rajoutez une ou plusieurs notes à la liste des notes\n",
    "note=[12,17,15,14]\n",
    "somme=0   #somme représente la somme de toutes les notes\n",
    "for n in note:\n",
    "    somme=somme+n\n",
    "moyenne=somme/len(note)\n",
    "print(moyenne)"
   ]
  },
  {
   "cell_type": "markdown",
   "metadata": {},
   "source": [
    "<h2 id=\"partie5\">5- Tri d'une liste (complément)</h2>"
   ]
  },
  {
   "cell_type": "markdown",
   "metadata": {},
   "source": [
    "<h2 id=\"partie6\">6- Tableaux à deux dimensions (complément)</h2>"
   ]
  }
 ],
 "metadata": {
  "kernelspec": {
   "display_name": "Python 3",
   "language": "python",
   "name": "python3"
  },
  "language_info": {
   "codemirror_mode": {
    "name": "ipython",
    "version": 3
   },
   "file_extension": ".py",
   "mimetype": "text/x-python",
   "name": "python",
   "nbconvert_exporter": "python",
   "pygments_lexer": "ipython3",
   "version": "3.7.3"
  }
 },
 "nbformat": 4,
 "nbformat_minor": 2
}
