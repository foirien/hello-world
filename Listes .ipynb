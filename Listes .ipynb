{
 "cells": [
  {
   "cell_type": "markdown",
   "metadata": {},
   "source": [
    "<h1><center><span style=\"border-style:solid;border-width:1px;border-radius:5px;\n",
    "    padding:5px;background-color:yellow;box-shadow: 6px 6px 6px black;\">Listes en Python</span></center></h1>"
   ]
  },
  {
   "cell_type": "markdown",
   "metadata": {},
   "source": [
    "<h2>Sommaire</h2>\n",
    "<ol>\n",
    "    <li>\n",
    "        <a href=\"#partie1\">Introduction</a>\n",
    "    </li>\n",
    "    <li>\n",
    "        <a href=\"#partie2\">Les listes</a>\n",
    "    </li>\n",
    "    <li>\n",
    "        <a href=\"#partie3\">Générer une liste</a>\n",
    "    </li>\n",
    "    <li>\n",
    "        <a href=\"#partie4\">Parcours d'une liste</a>\n",
    "    </li>\n",
    "    <li>\n",
    "        <a href=\"#partie5\">Tri d'une liste (complément)</a>\n",
    "    </li>\n",
    "    <li>\n",
    "        <a href=\"#partie6\">Tableaux à deux dimensions (complément)</a>\n",
    "    </li>\n",
    "</ol>"
   ]
  },
  {
   "cell_type": "markdown",
   "metadata": {},
   "source": [
    "<a id=\"partie1\"></a>"
   ]
  },
  {
   "cell_type": "markdown",
   "metadata": {},
   "source": [
    "<h2 style=\"text-decoration:underline;\" id=\"partie1\";>1- Introduction</h2>"
   ]
  },
  {
   "cell_type": "markdown",
   "metadata": {},
   "source": [
    "Imaginons que vous souhaitiez écrire un programme en Python qui calcule automatiquement la moyenne de vos notes.\n",
    "Vous avez par exemple obtenu les notes : 12, 17, 15 et 14.\n",
    "Vous pourriez procéder de la façon suivante :"
   ]
  },
  {
   "cell_type": "code",
   "execution_count": null,
   "metadata": {},
   "outputs": [],
   "source": [
    "a=12       # on stocke chaque note dans une variable\n",
    "b=17\n",
    "c=15\n",
    "d=14\n",
    "total=a+b+c+d\n",
    "nombreDeNotes=4\n",
    "moyenne = total/nombreDeNotes\n",
    "print(moyenne)"
   ]
  },
  {
   "cell_type": "markdown",
   "metadata": {},
   "source": [
    "Cette façon de faire présente trois défauts qui vont se révéler pénibles si l'on doit rajouter de nouvelles notes :\n",
    "<ol>\n",
    "    <li>\n",
    "        On doit inventer un nouveau nom de variable à chaque fois qu'on ajoute une nouvelle note.\n",
    "    </li>\n",
    "    <li>\n",
    "        Il faut modifier la formule qui calcule le total des notes en ajoutant la nouvelle note.\n",
    "    </li>\n",
    "    <li>\n",
    "        il ne faut pas oublier ne modifier aussi le nombre de notes (l'incrémenter de 1).\n",
    "</ol>"
   ]
  },
  {
   "cell_type": "markdown",
   "metadata": {},
   "source": [
    "De plus, si l'on souhaite déterminer de manière automatisée la plus grande des notes, on devra écrire un programme compliqué du type :"
   ]
  },
  {
   "cell_type": "code",
   "execution_count": null,
   "metadata": {},
   "outputs": [],
   "source": [
    "maxi=a\n",
    "if b>maxi:\n",
    "    maxi=b\n",
    "elif c>maxi:\n",
    "    maxi=c\n",
    "elif d>maxi:\n",
    "    maxi=d\n",
    "print(maxi)"
   ]
  },
  {
   "cell_type": "markdown",
   "metadata": {},
   "source": [
    "et il faudra rajouter encore une condition supplémentaire à chaque fois que l'on joute rune note.\n",
    "Imaginez la taille du programme si l'on a 100 notes!"
   ]
  },
  {
   "cell_type": "markdown",
   "metadata": {},
   "source": [
    "Le premier problème (celui des noms de variables) pourrait être résolu en nommant les notes a0, a1, a2, a3, etc... Cela ressemble à la solution qui a été inventée pour résoudre tous les problèmes à la fois : les **listes**. On va ici nommer nos variables : a[0], a[1], a[2], a[3], ... Le nombre entre crochets s'appelle l'<strong>indice</strong>, et pourra être stocké dans une variable."
   ]
  },
  {
   "cell_type": "markdown",
   "metadata": {},
   "source": [
    "<a id=\"partie2\"></a>"
   ]
  },
  {
   "cell_type": "markdown",
   "metadata": {},
   "source": [
    "<h2 style=\"text-decoration:underline;\" id=\"partie2\">2- Les listes</h2>"
   ]
  },
  {
   "cell_type": "markdown",
   "metadata": {},
   "source": [
    "<h3>Définition</h3>"
   ]
  },
  {
   "cell_type": "markdown",
   "metadata": {},
   "source": [
    "<div style=\"border:solid;padding:5px;background-color:rgb(255,137,120);color:blue;width:60%\">\n",
    "    <strong>Définition</strong><br>\n",
    "Une <strong>liste</strong> permet de stocker plusieurs valeurs dans une seule variable. <br>\n",
    "On accède aux valeurs individuelles via un <strong>indice</strong> (index en anglais).<br>\n",
    "La première valeur de la liste correspond à l'indice 0.\n",
    "</div>"
   ]
  },
  {
   "cell_type": "markdown",
   "metadata": {},
   "source": [
    "<span style=\"text-decoration:underline;\">Remarque</span> : Dans les langages de programmation autres que Python, les listes sont généralement appelées des **tableaux**."
   ]
  },
  {
   "cell_type": "markdown",
   "metadata": {},
   "source": [
    "Ci-dessous, on stocke 4 valuers dans la liste <code>a</code> :"
   ]
  },
  {
   "cell_type": "markdown",
   "metadata": {},
   "source": [
    "<figure style=\"display: block\">\n",
    "    <img src=\"https://vinci-ts1-2018.pagesperso-orange.fr/Liste.PNG\" alt=\"Schéma d'une liste\">    \n",
    "</figure>"
   ]
  },
  {
   "cell_type": "code",
   "execution_count": null,
   "metadata": {},
   "outputs": [],
   "source": [
    "a=[12,17,15,14]\n",
    "print(a)"
   ]
  },
  {
   "cell_type": "markdown",
   "metadata": {},
   "source": [
    "<h3>Taille d'une liste</h3>"
   ]
  },
  {
   "cell_type": "markdown",
   "metadata": {},
   "source": [
    "La **taille** de la liste (le nombre de valeurs qu'elle contient) s'obtient avec la fonction <code>len</code> (abréviation de length qui veut dire longueur en anglais)."
   ]
  },
  {
   "cell_type": "code",
   "execution_count": null,
   "metadata": {},
   "outputs": [],
   "source": [
    "len(a)"
   ]
  },
  {
   "cell_type": "markdown",
   "metadata": {},
   "source": [
    "<div class=\"alert alert-info\"><strong>Exercice 1 : </strong> La liste ci-dessous donne le nombre d'habitants de chaque commune d'Indre-et-Loire. <br>Combien y a-t-il de communes en Indre-et-Loire?</div>"
   ]
  },
  {
   "cell_type": "code",
   "execution_count": null,
   "metadata": {},
   "outputs": [],
   "source": [
    "nbHabitants=[1152,1750,12693,418,509,2639,166,2686,432,2218,1804,554,474,3493,3090,376,8052,464,1764,1712,247,2692,911,700,554,5250,752,329,3906,272,215,303,296,181,221,759,505,271,321,185,1057,448,1207,320,1257,11738,839,1140,124,3513,827,1282,1307,501,4944,1751,226,551,557,1799,727,228,350,134,8145,584,2083,452,411,3621,410,1801,203,1405,437,1784,1913,519,804,496,249,111,662,104,678,522,565,350,3427,615,671,745,940,410,158,144,6057,254,244,725,10357,1380,1515,381,881,1440,255,38250,1541,371,1069,683,570,1440,2348,315,177,3312,136463,10331,522,520,5542,4560,2486,794,896,351,528,338,523,311,561,1287,1061,2159,1293,479,6232,663,143,815,5099,245,974,573,1348,520,241,225,560,599,478,1363,2068,4473,4428,634,10825,332,786,7835,342,812,471,3490,442,2022,801,295,913,1084,1137,4165,741,818,1247,1199,716,605,2422,643,233,1364,1474,1657,1202,363,892,1004,168,234,1265,1187,1708,1678,506,309,480,996,709,3129,1320,1396,1717,327,14968,850,2614,1119,15991,1577,1632,569,1047,369,635,760,321,944,3169,1098,254,1003,1657,15766,504,608,1252,555,768,4142,705,1347,1567,3153,243,2172,208,623,367,1379,2683,872,392,185,1706,263,295,1753,281,460,303,2440,1279,243,6372,4551,127,478,2710,1058,1124,298,117,1334,594,1049,755,212,3246,1370]\n"
   ]
  },
  {
   "cell_type": "markdown",
   "metadata": {},
   "source": [
    "<h3>Accès aux valeurs</h3>"
   ]
  },
  {
   "cell_type": "markdown",
   "metadata": {},
   "source": [
    "On accède à la valeur d'indice <code>i</code> de la liste <code>a</code> en écrivant le nom de la liste suivi de l'indice entre crochets : <code>a[i]</code>. "
   ]
  },
  {
   "cell_type": "code",
   "execution_count": null,
   "metadata": {},
   "outputs": [],
   "source": [
    "print(a[0])\n",
    "print(a[1])\n",
    "print(nbHabitants[2])"
   ]
  },
  {
   "cell_type": "markdown",
   "metadata": {},
   "source": [
    "<div style=\"background-color:yellow;font-size:20px\"><strong>Important à retenir :</strong> <span style=\"color:red;\"><strong>L'indice de la première valeur est toujours 0 pour les listes.</strong></span> \n",
    "    "
   ]
  },
  {
   "cell_type": "markdown",
   "metadata": {},
   "source": [
    "C'est un peu comme pour les suites en mathématiques où le premier terme est souvent $u_0$.<br>\n",
    "Le dernier indice pour notre liste de 4 valeurs sera donc 3.</div>\n",
    "<br>\n",
    "    On obtiendra un message d'erreur si on dépasse les limites de la liste :"
   ]
  },
  {
   "cell_type": "code",
   "execution_count": null,
   "metadata": {},
   "outputs": [],
   "source": [
    "print(a[4])"
   ]
  },
  {
   "cell_type": "markdown",
   "metadata": {},
   "source": [
    "On peut également modifier n'importe quelle valeur de la liste : "
   ]
  },
  {
   "cell_type": "code",
   "execution_count": null,
   "metadata": {},
   "outputs": [],
   "source": [
    "a[2]=20\n",
    "print(a)"
   ]
  },
  {
   "cell_type": "markdown",
   "metadata": {},
   "source": [
    "<div class=\"alert alert-info\"><strong>Exercice 2 : </strong>Modifiez la première valeur de la liste <code>a</code>.</div>"
   ]
  },
  {
   "cell_type": "code",
   "execution_count": null,
   "metadata": {},
   "outputs": [],
   "source": []
  },
  {
   "cell_type": "markdown",
   "metadata": {},
   "source": [
    "<h3>Retour sur le problème du calcul de la moyenne</h3>"
   ]
  },
  {
   "cell_type": "markdown",
   "metadata": {},
   "source": [
    "On peut maintenant résoudre le problème du calcul de la moyenne de façon beaucoup plus élégante:"
   ]
  },
  {
   "cell_type": "code",
   "execution_count": null,
   "metadata": {},
   "outputs": [],
   "source": [
    "# Vous pouvez rajouter une ou plusieurs notes à la liste des notes\n",
    "note=[12,17,15,14]\n",
    "somme=0   #somme représente la somme de toutes les notes\n",
    "for i in range(len(note)):\n",
    "    somme=somme+note[i]\n",
    "moyenne=somme/len(note)\n",
    "print(moyenne)"
   ]
  },
  {
   "cell_type": "markdown",
   "metadata": {},
   "source": [
    "<em>Remarque : doit-on appeler la liste note ou notes?</em>"
   ]
  },
  {
   "cell_type": "markdown",
   "metadata": {},
   "source": [
    "Et voilà! Grâce aux listes, il est maintenant très simple de rajouter une nouvelle note. Plus besoin de modifier le programme, on ne modifie que la liste des notes. Essayez!"
   ]
  },
  {
   "cell_type": "markdown",
   "metadata": {},
   "source": [
    "<div class=\"alert alert-info\"><strong>Exercice 3 : </strong>En vous inspirant du programme précédent, écrivez un programme qui calcule le nombre total d'habitants en Indre-et-Loire.</div>"
   ]
  },
  {
   "cell_type": "code",
   "execution_count": null,
   "metadata": {},
   "outputs": [],
   "source": []
  },
  {
   "cell_type": "markdown",
   "metadata": {},
   "source": [
    "<a id=\"partie3\"></a>"
   ]
  },
  {
   "cell_type": "markdown",
   "metadata": {},
   "source": [
    "<h2 style=\"text-decoration:underline;\" id=\"partie3\">3- Générer une liste</h2>"
   ]
  },
  {
   "cell_type": "markdown",
   "metadata": {},
   "source": [
    "Il existe différentes façons de créer ou générer une liste."
   ]
  },
  {
   "cell_type": "markdown",
   "metadata": {},
   "source": [
    "<h3 style=\"text-decoration:underline;\">a) En écrivant la liste complète des éléments</h3>"
   ]
  },
  {
   "cell_type": "markdown",
   "metadata": {},
   "source": [
    "Il suffit d'écrire entre crochets la liste des valeurs, les valeurs étant séparées par une virgule :"
   ]
  },
  {
   "cell_type": "code",
   "execution_count": null,
   "metadata": {},
   "outputs": [],
   "source": [
    "maListe=[4,10,-9,7,54]\n",
    "print(maListe)\n",
    "print(maListe[2])\n",
    "print(len(maListe))"
   ]
  },
  {
   "cell_type": "markdown",
   "metadata": {},
   "source": [
    "<span style=\"text-decoration:underline\">Remarque</span> : Cette méthode est peu adaptée pour de longues listes. En pratique, il est fréquent d'utiliser de très longues listes, comme par exemple la liste des 500 000 membres d'un site web. Dans ce cas, la liste est créée à partir d'un fichier."
   ]
  },
  {
   "cell_type": "markdown",
   "metadata": {},
   "source": [
    "<div class=\"alert alert-info\"><strong>Exercice 4 : </strong>Générer ci-dessous la liste des carrés des entiers de 0 à 10 puis l'afficher.</div>"
   ]
  },
  {
   "cell_type": "code",
   "execution_count": null,
   "metadata": {},
   "outputs": [],
   "source": [
    "listeDesCarrés="
   ]
  },
  {
   "cell_type": "markdown",
   "metadata": {},
   "source": [
    "<h3 style=\"text-decoration:underline;\">b) En ajoutant un à un les éléments de la liste</h3>"
   ]
  },
  {
   "cell_type": "code",
   "execution_count": null,
   "metadata": {},
   "outputs": [],
   "source": [
    "maListe=[]\n",
    "maListe.append(6)\n",
    "maListe.append(7)\n",
    "maListe.append(10)\n",
    "print(maListe)\n",
    "print(maListe[2])\n",
    "print(len(maListe))"
   ]
  },
  {
   "cell_type": "markdown",
   "metadata": {},
   "source": [
    "<div class=\"alert alert-info\"><strong>Exercice 5 : </strong>Générer ci-dessous une liste à 5 éléments de votre choix en les ajoutant un à un.</div>"
   ]
  },
  {
   "cell_type": "code",
   "execution_count": null,
   "metadata": {},
   "outputs": [],
   "source": []
  },
  {
   "cell_type": "markdown",
   "metadata": {},
   "source": [
    "Il est également possible d'insérer ou de supprimer un élément : cela oblige la machine à décaler tous les éléments situés à droite de l'emplacement d'insertion ou de suppression. A éviter si l'on doit le faire souvent ou sur des listes très longues. Dans ce cas, on utilisera une structure plus sophistiquée qu'une liste, appelée une liste chaînée (hors programme de 1ère Spécialité Maths). Méthode pop à évoquer??? Fusionner deux tableaux"
   ]
  },
  {
   "cell_type": "code",
   "execution_count": null,
   "metadata": {},
   "outputs": [],
   "source": [
    "liste1=[2,4,6]\n",
    "liste2=[7,8,9]\n",
    "grosseListe=liste1+liste2\n",
    "print(grosseListe)\n",
    "liste1.pop()\n",
    "print(liste1)\n",
    "grosseListe.insert(4,18)\n",
    "print(grosseListe)"
   ]
  },
  {
   "cell_type": "markdown",
   "metadata": {},
   "source": [
    "<h3 style=\"text-decoration:underline;\">c) En utilisant la fonction <code>range</code></h3>"
   ]
  },
  {
   "cell_type": "markdown",
   "metadata": {},
   "source": [
    "La fonction range retourne une liste d'entiers Le secret de la boucle for i in range()"
   ]
  },
  {
   "cell_type": "code",
   "execution_count": null,
   "metadata": {},
   "outputs": [],
   "source": [
    "maListe=range(15,3,-2)\n",
    "print(list(maListe))"
   ]
  },
  {
   "cell_type": "markdown",
   "metadata": {},
   "source": [
    "Générer une suite arithmétique ou géométrique"
   ]
  },
  {
   "cell_type": "markdown",
   "metadata": {},
   "source": [
    "En extension ou en compréhension, à partir d'un fichier csv"
   ]
  },
  {
   "cell_type": "code",
   "execution_count": null,
   "metadata": {},
   "outputs": [],
   "source": [
    "maListe=[i*i for i in range(10)]\n",
    "print(maListe)"
   ]
  },
  {
   "cell_type": "markdown",
   "metadata": {},
   "source": [
    "<div class=\"alert alert-info\"><strong>Exercice : </strong>Générer ci-dessous la liste des entiers pairs de 0 à 200.</div>"
   ]
  },
  {
   "cell_type": "code",
   "execution_count": null,
   "metadata": {},
   "outputs": [],
   "source": [
    "print([2*i for i in range(101)])"
   ]
  },
  {
   "cell_type": "markdown",
   "metadata": {},
   "source": [
    "On peut générer une liste aléatoire de la façon suivante :"
   ]
  },
  {
   "cell_type": "code",
   "execution_count": null,
   "metadata": {},
   "outputs": [],
   "source": [
    "from random import *\n",
    "maListe=[randint(1,6) for i in range(50)]\n",
    "print(maListe)"
   ]
  },
  {
   "cell_type": "markdown",
   "metadata": {},
   "source": [
    "<div class=\"alert alert-info\"><strong>Exercice : </strong>Ecrire un programme qui affiche un élément choisi au hasard dans la liste ci-dessous.</div>"
   ]
  },
  {
   "cell_type": "code",
   "execution_count": null,
   "metadata": {},
   "outputs": [],
   "source": [
    "listeDeNombres=[37,41,18,45,36,28]\n"
   ]
  },
  {
   "cell_type": "markdown",
   "metadata": {},
   "source": [
    "<a id=\"partie4\"></a>"
   ]
  },
  {
   "cell_type": "markdown",
   "metadata": {},
   "source": [
    "<h2 style=\"text-decoration:underline;\" id=\"partie4\">4- Parcours d'une liste</h2>"
   ]
  },
  {
   "cell_type": "markdown",
   "metadata": {},
   "source": [
    "On peut maintenant parcourir facilement la liste des notes à l'aide d'une boucle for :"
   ]
  },
  {
   "cell_type": "markdown",
   "metadata": {},
   "source": [
    "note=[12,17,15,14]\n",
    "somme=0   #somme représente la somme de toutes les notes\n",
    "for n in note:\n",
    "    somme=somme+n\n",
    "moyenne=somme/len(note)\n",
    "print(moyenne)"
   ]
  },
  {
   "cell_type": "markdown",
   "metadata": {},
   "source": [
    "<div class=\"alert alert-info\">\n",
    "Et voilà! Grâce aux listes, il est maintenant très simple de rajouter une nouvelle note. plus besoin de modifier le programme, on ne modifie que la liste des notes. Essayez!</div>"
   ]
  },
  {
   "cell_type": "markdown",
   "metadata": {},
   "source": [
    "**Exercice 1**"
   ]
  },
  {
   "cell_type": "code",
   "execution_count": null,
   "metadata": {},
   "outputs": [],
   "source": [
    "# Rajoutez une ou plusieurs notes à la liste des notes\n",
    "note=[12,17,15,14]\n",
    "somme=0   #somme représente la somme de toutes les notes\n",
    "for n in note:\n",
    "    somme=somme+n\n",
    "moyenne=somme/len(note)\n",
    "print(moyenne)"
   ]
  },
  {
   "cell_type": "markdown",
   "metadata": {},
   "source": [
    "<div class=\"alert alert-info\"><strong>Exercice : </strong>Dans chaque cas, indiquer s'il est préférable d'utiliser une boucle <code>for</code> ou une boucle <code>while</code>.\n",
    "<ol>\n",
    "    <li>\n",
    "        Calculer la somme de toutes les valeurs de la liste.\n",
    "    </li>\n",
    "      <li>\n",
    "        Déterminer la plus grande valeur de la liste.\n",
    "    </li>\n",
    "      <li>\n",
    "        Déterminer si la valeur 6 apparait au moins une fois dans la liste.\n",
    "    </li>\n",
    "      <li>\n",
    "        Compter le nombre d'apparitions de la valeur 6 dans la liste.\n",
    "    </li>\n",
    "      <li>\n",
    "        Déterminer si les valeurs de la liste sont rangées dans l'ordre croissant.\n",
    "    </li>\n",
    "</ol>\n",
    "    Indiquez vos réponses dans le cadre vert.\n",
    "</div>"
   ]
  },
  {
   "cell_type": "markdown",
   "metadata": {},
   "source": [
    "<div class=\"alert alert-success\" style=\"width:25%\"><strong>Réponses : </strong>\n",
    "    <ol>\n",
    "        <li>\n",
    "            <input type=\"checkbox\"> for &nbsp;&nbsp;&nbsp; <input type=\"checkbox\"> while          \n",
    "        </li>  \n",
    "          <li>\n",
    "            <input type=\"checkbox\"> for &nbsp;&nbsp;&nbsp; <input type=\"checkbox\"> while          \n",
    "        </li>  \n",
    "          <li>\n",
    "            <input type=\"checkbox\"> for &nbsp;&nbsp;&nbsp; <input type=\"checkbox\"> while          \n",
    "        </li>  \n",
    "          <li>\n",
    "            <input type=\"checkbox\"> for &nbsp;&nbsp;&nbsp; <input type=\"checkbox\"> while          \n",
    "        </li>  \n",
    "          <li>\n",
    "            <input type=\"checkbox\"> for &nbsp;&nbsp;&nbsp; <input type=\"checkbox\"> while          \n",
    "        </li>  \n",
    "    </ol>\n",
    "   \n",
    "</div>"
   ]
  },
  {
   "cell_type": "code",
   "execution_count": null,
   "metadata": {},
   "outputs": [],
   "source": [
    "note=[6,8,9,15]\n",
    "coeff=[1,2,3,4]\n",
    "somme=0\n",
    "for n,c in zip(note,coeff):\n",
    "    somme+=n*c\n",
    "print(somme)\n",
    "    "
   ]
  },
  {
   "cell_type": "markdown",
   "metadata": {},
   "source": [
    "<a id=\"partie5\"></a>"
   ]
  },
  {
   "cell_type": "markdown",
   "metadata": {},
   "source": [
    "<h2 style=\"text-decoration:underline;\" id=\"partie5\">5- Tri d'une liste (complément)</h2>"
   ]
  },
  {
   "cell_type": "markdown",
   "metadata": {},
   "source": [
    "Application : calcul de la médiane"
   ]
  },
  {
   "cell_type": "markdown",
   "metadata": {},
   "source": [
    "<progress>145</progress>\n"
   ]
  },
  {
   "cell_type": "markdown",
   "metadata": {},
   "source": [
    "<a id=\"partie6\"></a>"
   ]
  },
  {
   "cell_type": "markdown",
   "metadata": {},
   "source": [
    "<h2 style=\"text-decoration:underline;\" id=\"partie6\">6- Tableaux à deux dimensions (complément)</h2>"
   ]
  },
  {
   "cell_type": "markdown",
   "metadata": {},
   "source": [
    "A venir\n",
    "<progress></progress>\n"
   ]
  }
 ],
 "metadata": {
  "kernelspec": {
   "display_name": "Python 3",
   "language": "python",
   "name": "python3"
  },
  "language_info": {
   "codemirror_mode": {
    "name": "ipython",
    "version": 3
   },
   "file_extension": ".py",
   "mimetype": "text/x-python",
   "name": "python",
   "nbconvert_exporter": "python",
   "pygments_lexer": "ipython3",
   "version": "3.7.3"
  }
 },
 "nbformat": 4,
 "nbformat_minor": 2
}
